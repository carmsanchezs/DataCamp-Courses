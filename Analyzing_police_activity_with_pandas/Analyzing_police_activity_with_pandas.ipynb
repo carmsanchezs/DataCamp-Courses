{
  "nbformat": 4,
  "nbformat_minor": 0,
  "metadata": {
    "colab": {
      "name": "Analyzing_police_activity_with_pandas.ipynb",
      "provenance": [],
      "authorship_tag": "ABX9TyPXrvkEY3NM1/YrWxverK5T",
      "include_colab_link": true
    },
    "kernelspec": {
      "name": "python3",
      "display_name": "Python 3"
    },
    "language_info": {
      "name": "python"
    }
  },
  "cells": [
    {
      "cell_type": "markdown",
      "metadata": {
        "id": "view-in-github",
        "colab_type": "text"
      },
      "source": [
        "<a href=\"https://colab.research.google.com/github/carmsanchezs/DataCamp-Courses/blob/main/Analyzing_police_activity_with_pandas/Analyzing_police_activity_with_pandas.ipynb\" target=\"_parent\"><img src=\"https://colab.research.google.com/assets/colab-badge.svg\" alt=\"Open In Colab\"/></a>"
      ]
    },
    {
      "cell_type": "markdown",
      "metadata": {
        "id": "JEFw_ZgmN8i4"
      },
      "source": [
        "\n",
        "# **Analyzing Police Activity with pandas**\n",
        "Data Camp Course\n",
        "---\n",
        "\n"
      ]
    },
    {
      "cell_type": "markdown",
      "metadata": {
        "id": "KmSCgcLMPe_1"
      },
      "source": [
        "## **Preparando los datos para su análisis**\n",
        "\n",
        "Antes de iniciar nuestro análisis, es importante exáminar y limpiar los datos, para que trabajar con ellos sea un proceso más eficiente."
      ]
    },
    {
      "cell_type": "markdown",
      "metadata": {
        "id": "eFdlmYYuhjmE"
      },
      "source": [
        "### Agregando librerias"
      ]
    },
    {
      "cell_type": "code",
      "metadata": {
        "id": "HYD-DrCpNtmh"
      },
      "source": [
        "# importando librerias\n",
        "import pandas as pd\n",
        "import matplotlib.pyplot as plt"
      ],
      "execution_count": null,
      "outputs": []
    },
    {
      "cell_type": "markdown",
      "metadata": {
        "id": "0HWKWTNWPmiU"
      },
      "source": [
        "### Cargando los datos\n",
        "\n",
        "* examine the data\n",
        "Each row represents one traffic **stop**"
      ]
    },
    {
      "cell_type": "code",
      "metadata": {
        "colab": {
          "base_uri": "https://localhost:8080/",
          "height": 243
        },
        "id": "fQ9HhBkAOSd2",
        "outputId": "9d381d98-420d-46ba-aae2-043a36f23cd6"
      },
      "source": [
        "# cargando información y explorando los primeros registros\n",
        "ri = pd.read_csv('https://raw.githubusercontent.com/carmsanchezs/DSFem_projects_to_practices/8327281c395981595fba63d94a17da0828838248/data/police.csv')\n",
        "ri.head()"
      ],
      "execution_count": null,
      "outputs": [
        {
          "output_type": "execute_result",
          "data": {
            "text/html": [
              "<div>\n",
              "<style scoped>\n",
              "    .dataframe tbody tr th:only-of-type {\n",
              "        vertical-align: middle;\n",
              "    }\n",
              "\n",
              "    .dataframe tbody tr th {\n",
              "        vertical-align: top;\n",
              "    }\n",
              "\n",
              "    .dataframe thead th {\n",
              "        text-align: right;\n",
              "    }\n",
              "</style>\n",
              "<table border=\"1\" class=\"dataframe\">\n",
              "  <thead>\n",
              "    <tr style=\"text-align: right;\">\n",
              "      <th></th>\n",
              "      <th>state</th>\n",
              "      <th>stop_date</th>\n",
              "      <th>stop_time</th>\n",
              "      <th>county_name</th>\n",
              "      <th>driver_gender</th>\n",
              "      <th>driver_race</th>\n",
              "      <th>violation_raw</th>\n",
              "      <th>violation</th>\n",
              "      <th>search_conducted</th>\n",
              "      <th>search_type</th>\n",
              "      <th>stop_outcome</th>\n",
              "      <th>is_arrested</th>\n",
              "      <th>stop_duration</th>\n",
              "      <th>drugs_related_stop</th>\n",
              "      <th>district</th>\n",
              "    </tr>\n",
              "  </thead>\n",
              "  <tbody>\n",
              "    <tr>\n",
              "      <th>0</th>\n",
              "      <td>RI</td>\n",
              "      <td>2005-01-04</td>\n",
              "      <td>12:55</td>\n",
              "      <td>NaN</td>\n",
              "      <td>M</td>\n",
              "      <td>White</td>\n",
              "      <td>Equipment/Inspection Violation</td>\n",
              "      <td>Equipment</td>\n",
              "      <td>False</td>\n",
              "      <td>NaN</td>\n",
              "      <td>Citation</td>\n",
              "      <td>False</td>\n",
              "      <td>0-15 Min</td>\n",
              "      <td>False</td>\n",
              "      <td>Zone X4</td>\n",
              "    </tr>\n",
              "    <tr>\n",
              "      <th>1</th>\n",
              "      <td>RI</td>\n",
              "      <td>2005-01-23</td>\n",
              "      <td>23:15</td>\n",
              "      <td>NaN</td>\n",
              "      <td>M</td>\n",
              "      <td>White</td>\n",
              "      <td>Speeding</td>\n",
              "      <td>Speeding</td>\n",
              "      <td>False</td>\n",
              "      <td>NaN</td>\n",
              "      <td>Citation</td>\n",
              "      <td>False</td>\n",
              "      <td>0-15 Min</td>\n",
              "      <td>False</td>\n",
              "      <td>Zone K3</td>\n",
              "    </tr>\n",
              "    <tr>\n",
              "      <th>2</th>\n",
              "      <td>RI</td>\n",
              "      <td>2005-02-17</td>\n",
              "      <td>04:15</td>\n",
              "      <td>NaN</td>\n",
              "      <td>M</td>\n",
              "      <td>White</td>\n",
              "      <td>Speeding</td>\n",
              "      <td>Speeding</td>\n",
              "      <td>False</td>\n",
              "      <td>NaN</td>\n",
              "      <td>Citation</td>\n",
              "      <td>False</td>\n",
              "      <td>0-15 Min</td>\n",
              "      <td>False</td>\n",
              "      <td>Zone X4</td>\n",
              "    </tr>\n",
              "    <tr>\n",
              "      <th>3</th>\n",
              "      <td>RI</td>\n",
              "      <td>2005-02-20</td>\n",
              "      <td>17:15</td>\n",
              "      <td>NaN</td>\n",
              "      <td>M</td>\n",
              "      <td>White</td>\n",
              "      <td>Call for Service</td>\n",
              "      <td>Other</td>\n",
              "      <td>False</td>\n",
              "      <td>NaN</td>\n",
              "      <td>Arrest Driver</td>\n",
              "      <td>True</td>\n",
              "      <td>16-30 Min</td>\n",
              "      <td>False</td>\n",
              "      <td>Zone X1</td>\n",
              "    </tr>\n",
              "    <tr>\n",
              "      <th>4</th>\n",
              "      <td>RI</td>\n",
              "      <td>2005-02-24</td>\n",
              "      <td>01:20</td>\n",
              "      <td>NaN</td>\n",
              "      <td>F</td>\n",
              "      <td>White</td>\n",
              "      <td>Speeding</td>\n",
              "      <td>Speeding</td>\n",
              "      <td>False</td>\n",
              "      <td>NaN</td>\n",
              "      <td>Citation</td>\n",
              "      <td>False</td>\n",
              "      <td>0-15 Min</td>\n",
              "      <td>False</td>\n",
              "      <td>Zone X3</td>\n",
              "    </tr>\n",
              "  </tbody>\n",
              "</table>\n",
              "</div>"
            ],
            "text/plain": [
              "  state   stop_date stop_time  ...  stop_duration drugs_related_stop district\n",
              "0    RI  2005-01-04     12:55  ...       0-15 Min              False  Zone X4\n",
              "1    RI  2005-01-23     23:15  ...       0-15 Min              False  Zone K3\n",
              "2    RI  2005-02-17     04:15  ...       0-15 Min              False  Zone X4\n",
              "3    RI  2005-02-20     17:15  ...      16-30 Min              False  Zone X1\n",
              "4    RI  2005-02-24     01:20  ...       0-15 Min              False  Zone X3\n",
              "\n",
              "[5 rows x 15 columns]"
            ]
          },
          "metadata": {},
          "execution_count": 2
        }
      ]
    },
    {
      "cell_type": "markdown",
      "metadata": {
        "id": "7WJhP_XHX8aN"
      },
      "source": [
        "### Examinando el dataset\n",
        "* revisar datos nulos\n",
        "* revisar tipos de datos de las columnas y adecuar los tipos de datos si es necesario\n",
        "* elegir el índice"
      ]
    },
    {
      "cell_type": "code",
      "metadata": {
        "colab": {
          "base_uri": "https://localhost:8080/"
        },
        "id": "ioPT_gKVQXfX",
        "outputId": "defc037b-1e3a-4c3d-f534-140adec9692d"
      },
      "source": [
        "# analizando si existen datos nulos\n",
        "ri.isnull().sum()"
      ],
      "execution_count": null,
      "outputs": [
        {
          "output_type": "execute_result",
          "data": {
            "text/plain": [
              "state                     0\n",
              "stop_date                 0\n",
              "stop_time                 0\n",
              "county_name           91741\n",
              "driver_gender          5205\n",
              "driver_race            5202\n",
              "violation_raw          5202\n",
              "violation              5202\n",
              "search_conducted          0\n",
              "search_type           88434\n",
              "stop_outcome           5202\n",
              "is_arrested            5202\n",
              "stop_duration          5202\n",
              "drugs_related_stop        0\n",
              "district                  0\n",
              "dtype: int64"
            ]
          },
          "metadata": {},
          "execution_count": 3
        }
      ]
    },
    {
      "cell_type": "code",
      "metadata": {
        "colab": {
          "base_uri": "https://localhost:8080/"
        },
        "id": "hHOvaH-LD4TR",
        "outputId": "fa965a5b-32e2-4aa8-851c-c4871f2e23d2"
      },
      "source": [
        "# analizando el total de registros \n",
        "ri.shape"
      ],
      "execution_count": null,
      "outputs": [
        {
          "output_type": "execute_result",
          "data": {
            "text/plain": [
              "(91741, 15)"
            ]
          },
          "metadata": {},
          "execution_count": 4
        }
      ]
    },
    {
      "cell_type": "markdown",
      "metadata": {
        "id": "-TeA3jdxEGzt"
      },
      "source": [
        "#### Eliminando columnas\n",
        "**county_name** sólo tiene datos nulos, así que será eliminada del DataFrame"
      ]
    },
    {
      "cell_type": "code",
      "metadata": {
        "colab": {
          "base_uri": "https://localhost:8080/",
          "height": 180
        },
        "id": "ePUbGHWtEPpg",
        "outputId": "161737b8-1fdc-4721-814a-f8a9d27e2dc4"
      },
      "source": [
        "# eliminamos la columna county_name\n",
        "ri.drop('county_name', axis='columns', inplace=True)\n",
        "ri.head(3)"
      ],
      "execution_count": null,
      "outputs": [
        {
          "output_type": "execute_result",
          "data": {
            "text/html": [
              "<div>\n",
              "<style scoped>\n",
              "    .dataframe tbody tr th:only-of-type {\n",
              "        vertical-align: middle;\n",
              "    }\n",
              "\n",
              "    .dataframe tbody tr th {\n",
              "        vertical-align: top;\n",
              "    }\n",
              "\n",
              "    .dataframe thead th {\n",
              "        text-align: right;\n",
              "    }\n",
              "</style>\n",
              "<table border=\"1\" class=\"dataframe\">\n",
              "  <thead>\n",
              "    <tr style=\"text-align: right;\">\n",
              "      <th></th>\n",
              "      <th>state</th>\n",
              "      <th>stop_date</th>\n",
              "      <th>stop_time</th>\n",
              "      <th>driver_gender</th>\n",
              "      <th>driver_race</th>\n",
              "      <th>violation_raw</th>\n",
              "      <th>violation</th>\n",
              "      <th>search_conducted</th>\n",
              "      <th>search_type</th>\n",
              "      <th>stop_outcome</th>\n",
              "      <th>is_arrested</th>\n",
              "      <th>stop_duration</th>\n",
              "      <th>drugs_related_stop</th>\n",
              "      <th>district</th>\n",
              "    </tr>\n",
              "  </thead>\n",
              "  <tbody>\n",
              "    <tr>\n",
              "      <th>0</th>\n",
              "      <td>RI</td>\n",
              "      <td>2005-01-04</td>\n",
              "      <td>12:55</td>\n",
              "      <td>M</td>\n",
              "      <td>White</td>\n",
              "      <td>Equipment/Inspection Violation</td>\n",
              "      <td>Equipment</td>\n",
              "      <td>False</td>\n",
              "      <td>NaN</td>\n",
              "      <td>Citation</td>\n",
              "      <td>False</td>\n",
              "      <td>0-15 Min</td>\n",
              "      <td>False</td>\n",
              "      <td>Zone X4</td>\n",
              "    </tr>\n",
              "    <tr>\n",
              "      <th>1</th>\n",
              "      <td>RI</td>\n",
              "      <td>2005-01-23</td>\n",
              "      <td>23:15</td>\n",
              "      <td>M</td>\n",
              "      <td>White</td>\n",
              "      <td>Speeding</td>\n",
              "      <td>Speeding</td>\n",
              "      <td>False</td>\n",
              "      <td>NaN</td>\n",
              "      <td>Citation</td>\n",
              "      <td>False</td>\n",
              "      <td>0-15 Min</td>\n",
              "      <td>False</td>\n",
              "      <td>Zone K3</td>\n",
              "    </tr>\n",
              "    <tr>\n",
              "      <th>2</th>\n",
              "      <td>RI</td>\n",
              "      <td>2005-02-17</td>\n",
              "      <td>04:15</td>\n",
              "      <td>M</td>\n",
              "      <td>White</td>\n",
              "      <td>Speeding</td>\n",
              "      <td>Speeding</td>\n",
              "      <td>False</td>\n",
              "      <td>NaN</td>\n",
              "      <td>Citation</td>\n",
              "      <td>False</td>\n",
              "      <td>0-15 Min</td>\n",
              "      <td>False</td>\n",
              "      <td>Zone X4</td>\n",
              "    </tr>\n",
              "  </tbody>\n",
              "</table>\n",
              "</div>"
            ],
            "text/plain": [
              "  state   stop_date stop_time  ... stop_duration drugs_related_stop district\n",
              "0    RI  2005-01-04     12:55  ...      0-15 Min              False  Zone X4\n",
              "1    RI  2005-01-23     23:15  ...      0-15 Min              False  Zone K3\n",
              "2    RI  2005-02-17     04:15  ...      0-15 Min              False  Zone X4\n",
              "\n",
              "[3 rows x 14 columns]"
            ]
          },
          "metadata": {},
          "execution_count": 5
        }
      ]
    },
    {
      "cell_type": "markdown",
      "metadata": {
        "id": "z-mJaoeDFBG5"
      },
      "source": [
        "#### Eliminando filas\n",
        "stop_date y stop_time no contienen valores nulos, pero que pasaría si sí y si estos campos fueran clave para nuestro análisis. \n",
        "\n",
        "Una forma de eliminar registros con valores nulos en esos valores, porque de otra forma no nos servirían, es:"
      ]
    },
    {
      "cell_type": "code",
      "metadata": {
        "colab": {
          "base_uri": "https://localhost:8080/"
        },
        "id": "jtrR8GO_FY7d",
        "outputId": "45029cec-1490-46dc-8b09-73b33c21e682"
      },
      "source": [
        "# borrando registros cuyo valor sea nulo en las columnas stop_date y stop_time\n",
        "ri.dropna(subset=['stop_date','stop_time'], inplace=True)\n",
        "ri.shape"
      ],
      "execution_count": null,
      "outputs": [
        {
          "output_type": "execute_result",
          "data": {
            "text/plain": [
              "(91741, 14)"
            ]
          },
          "metadata": {},
          "execution_count": 6
        }
      ]
    },
    {
      "cell_type": "markdown",
      "metadata": {
        "id": "icl3SGGFhQ6A"
      },
      "source": [
        "### Usando el \"data type\" adecuado"
      ]
    },
    {
      "cell_type": "code",
      "metadata": {
        "colab": {
          "base_uri": "https://localhost:8080/"
        },
        "id": "fnBswud2lAn3",
        "outputId": "809edd70-a39f-45e4-ffcd-ccd70848bb8e"
      },
      "source": [
        "# analiznado los tipos de datos\n",
        "ri.dtypes"
      ],
      "execution_count": null,
      "outputs": [
        {
          "output_type": "execute_result",
          "data": {
            "text/plain": [
              "state                 object\n",
              "stop_date             object\n",
              "stop_time             object\n",
              "driver_gender         object\n",
              "driver_race           object\n",
              "violation_raw         object\n",
              "violation             object\n",
              "search_conducted        bool\n",
              "search_type           object\n",
              "stop_outcome          object\n",
              "is_arrested           object\n",
              "stop_duration         object\n",
              "drugs_related_stop      bool\n",
              "district              object\n",
              "dtype: object"
            ]
          },
          "metadata": {},
          "execution_count": 7
        }
      ]
    },
    {
      "cell_type": "markdown",
      "metadata": {
        "id": "WsFx3hdPl786"
      },
      "source": [
        "* **object**: Python strings (u otros objetos de Python)\n",
        "* **bool**: valores True y False \n",
        "* Otros tipos: **int**, **float**, **datetime**, **category**\n",
        "\n",
        "Los tipos de datos importan porque afectan las operaciones que una Serie puede realizar\n"
      ]
    },
    {
      "cell_type": "code",
      "metadata": {
        "colab": {
          "base_uri": "https://localhost:8080/"
        },
        "id": "8fLx2oNkp3tj",
        "outputId": "533d191e-d31d-4a0b-cffc-e1deff713d0a"
      },
      "source": [
        "# examinando los primeros registros de 'is_arrested'\n",
        "ri.is_arrested.head()"
      ],
      "execution_count": null,
      "outputs": [
        {
          "output_type": "execute_result",
          "data": {
            "text/plain": [
              "0    False\n",
              "1    False\n",
              "2    False\n",
              "3     True\n",
              "4    False\n",
              "Name: is_arrested, dtype: object"
            ]
          },
          "metadata": {},
          "execution_count": 8
        }
      ]
    },
    {
      "cell_type": "code",
      "metadata": {
        "colab": {
          "base_uri": "https://localhost:8080/"
        },
        "id": "UC-YH9dLq8IS",
        "outputId": "84d99bab-3b04-4cd7-e0f0-50b6e4a33c41"
      },
      "source": [
        "# analizando el tipo de dato de is_arrested\n",
        "ri.is_arrested.dtype"
      ],
      "execution_count": null,
      "outputs": [
        {
          "output_type": "execute_result",
          "data": {
            "text/plain": [
              "dtype('O')"
            ]
          },
          "metadata": {},
          "execution_count": 9
        }
      ]
    },
    {
      "cell_type": "code",
      "metadata": {
        "colab": {
          "base_uri": "https://localhost:8080/"
        },
        "id": "XblUIuC8q-CA",
        "outputId": "9e5cad2c-65ac-4da9-a620-aef632184521"
      },
      "source": [
        "# convertimos is_arrested como tipo de dato boolean\n",
        "ri['is_arrested'] = ri.is_arrested.astype('bool')\n",
        "ri.is_arrested.dtype"
      ],
      "execution_count": null,
      "outputs": [
        {
          "output_type": "execute_result",
          "data": {
            "text/plain": [
              "dtype('bool')"
            ]
          },
          "metadata": {},
          "execution_count": 10
        }
      ]
    },
    {
      "cell_type": "markdown",
      "metadata": {
        "id": "kZuX3Yl2rtEJ"
      },
      "source": [
        "Podemos ver que la fecha está en diferentes columnas: fecha y hora. Así que **combinaremos** las dos coulmnas en una columna y la convertiremos en **datetime**. Si el dato originalmente está en formato **month-day-year** no necesitamos epecificar nada.\n",
        "\n",
        "Está última columna la convertiremos en indice (**DatetimeIndex**)"
      ]
    },
    {
      "cell_type": "code",
      "metadata": {
        "colab": {
          "base_uri": "https://localhost:8080/"
        },
        "id": "Nz_3ppcxsjmY",
        "outputId": "2fda031b-75b5-4f7d-bb15-fb1210f4f519"
      },
      "source": [
        "# combinamos stop_date y stop_time para hacer una sola columna de fecha \"stop_datetime\"\n",
        "# además convertimos el tipo de dato en datetime\n",
        "combined = ri.stop_date.str.cat(ri.stop_time, sep=' ')\n",
        "ri['stop_datetime'] = pd.to_datetime(combined)\n",
        "ri.dtypes"
      ],
      "execution_count": null,
      "outputs": [
        {
          "output_type": "execute_result",
          "data": {
            "text/plain": [
              "state                         object\n",
              "stop_date                     object\n",
              "stop_time                     object\n",
              "driver_gender                 object\n",
              "driver_race                   object\n",
              "violation_raw                 object\n",
              "violation                     object\n",
              "search_conducted                bool\n",
              "search_type                   object\n",
              "stop_outcome                  object\n",
              "is_arrested                     bool\n",
              "stop_duration                 object\n",
              "drugs_related_stop              bool\n",
              "district                      object\n",
              "stop_datetime         datetime64[ns]\n",
              "dtype: object"
            ]
          },
          "metadata": {},
          "execution_count": 11
        }
      ]
    },
    {
      "cell_type": "markdown",
      "metadata": {
        "id": "5xvpkK5KiB2c"
      },
      "source": [
        "### Creando un DatatimeIndex"
      ]
    },
    {
      "cell_type": "code",
      "metadata": {
        "colab": {
          "base_uri": "https://localhost:8080/"
        },
        "id": "fLQsakIg55yR",
        "outputId": "f98f3694-4f7b-4523-b804-9c9cad6ac387"
      },
      "source": [
        "# establecemos stop_datetime como nuevo índice\n",
        "ri.set_index('stop_datetime', inplace=True)\n",
        "ri.index"
      ],
      "execution_count": null,
      "outputs": [
        {
          "output_type": "execute_result",
          "data": {
            "text/plain": [
              "DatetimeIndex(['2005-01-04 12:55:00', '2005-01-23 23:15:00',\n",
              "               '2005-02-17 04:15:00', '2005-02-20 17:15:00',\n",
              "               '2005-02-24 01:20:00', '2005-03-14 10:00:00',\n",
              "               '2005-03-29 21:55:00', '2005-04-04 21:25:00',\n",
              "               '2005-07-14 11:20:00', '2005-07-14 19:55:00',\n",
              "               ...\n",
              "               '2015-12-31 13:23:00', '2015-12-31 18:59:00',\n",
              "               '2015-12-31 19:13:00', '2015-12-31 20:20:00',\n",
              "               '2015-12-31 20:50:00', '2015-12-31 21:21:00',\n",
              "               '2015-12-31 21:59:00', '2015-12-31 22:04:00',\n",
              "               '2015-12-31 22:09:00', '2015-12-31 22:47:00'],\n",
              "              dtype='datetime64[ns]', name='stop_datetime', length=91741, freq=None)"
            ]
          },
          "metadata": {},
          "execution_count": 12
        }
      ]
    },
    {
      "cell_type": "code",
      "metadata": {
        "colab": {
          "base_uri": "https://localhost:8080/"
        },
        "id": "GK4GNL6X-X4n",
        "outputId": "017dab1e-2e82-4444-af71-55f37657d00c"
      },
      "source": [
        "# examinamos las columnas y observamos que la columna índice ya no aparece como columna\n",
        "ri.columns"
      ],
      "execution_count": null,
      "outputs": [
        {
          "output_type": "execute_result",
          "data": {
            "text/plain": [
              "Index(['state', 'stop_date', 'stop_time', 'driver_gender', 'driver_race',\n",
              "       'violation_raw', 'violation', 'search_conducted', 'search_type',\n",
              "       'stop_outcome', 'is_arrested', 'stop_duration', 'drugs_related_stop',\n",
              "       'district'],\n",
              "      dtype='object')"
            ]
          },
          "metadata": {},
          "execution_count": 13
        }
      ]
    },
    {
      "cell_type": "markdown",
      "metadata": {
        "id": "5l3eW1U-ACdI"
      },
      "source": [
        "## **Explorando la relación entre género y vigilancia**\n",
        "Examinaremos si el género del conductor tiene un impacto en el comportamiento del policia durante una parada de tráfico?\n"
      ]
    },
    {
      "cell_type": "markdown",
      "metadata": {
        "id": "7ILrr0VJgDKR"
      },
      "source": [
        "#### ¿Se comenten diferentes infracciones por género?"
      ]
    },
    {
      "cell_type": "code",
      "metadata": {
        "colab": {
          "base_uri": "https://localhost:8080/"
        },
        "id": "RCYoLY7NABkG",
        "outputId": "efbb7508-e023-4b9e-f0d8-9832d27baf29"
      },
      "source": [
        "# contabilizando las paradas de tráfico\n",
        "ri.stop_outcome.value_counts()"
      ],
      "execution_count": null,
      "outputs": [
        {
          "output_type": "execute_result",
          "data": {
            "text/plain": [
              "Citation            77092\n",
              "Warning              5137\n",
              "Arrest Driver        2735\n",
              "No Action             625\n",
              "N/D                   607\n",
              "Arrest Passenger      343\n",
              "Name: stop_outcome, dtype: int64"
            ]
          },
          "metadata": {},
          "execution_count": 14
        }
      ]
    },
    {
      "cell_type": "code",
      "metadata": {
        "colab": {
          "base_uri": "https://localhost:8080/"
        },
        "id": "rjxg2IRS2BOs",
        "outputId": "ff0f9912-ea86-41ed-b8ca-eb9c3227c836"
      },
      "source": [
        "# contabilizando con porcentajes\n",
        "ri.stop_outcome.value_counts(normalize=True)"
      ],
      "execution_count": null,
      "outputs": [
        {
          "output_type": "execute_result",
          "data": {
            "text/plain": [
              "Citation            0.890835\n",
              "Warning             0.059361\n",
              "Arrest Driver       0.031604\n",
              "No Action           0.007222\n",
              "N/D                 0.007014\n",
              "Arrest Passenger    0.003964\n",
              "Name: stop_outcome, dtype: float64"
            ]
          },
          "metadata": {},
          "execution_count": 15
        }
      ]
    },
    {
      "cell_type": "code",
      "metadata": {
        "colab": {
          "base_uri": "https://localhost:8080/"
        },
        "id": "dWqE4dNQ-ZZ7",
        "outputId": "f0d1a248-3f7a-4b5e-bee3-d506b82ac429"
      },
      "source": [
        "# sumando los conteos\n",
        "ri.stop_outcome.value_counts().sum()"
      ],
      "execution_count": null,
      "outputs": [
        {
          "output_type": "execute_result",
          "data": {
            "text/plain": [
              "86539"
            ]
          },
          "metadata": {},
          "execution_count": 16
        }
      ]
    },
    {
      "cell_type": "code",
      "metadata": {
        "colab": {
          "base_uri": "https://localhost:8080/"
        },
        "id": "p23keX39Psd0",
        "outputId": "600395e9-7bb8-4fb2-ba7c-f7fdbec16934"
      },
      "source": [
        "# verificando nuevamente los datos nulos\n",
        "ri.stop_outcome.isnull().sum()"
      ],
      "execution_count": null,
      "outputs": [
        {
          "output_type": "execute_result",
          "data": {
            "text/plain": [
              "5202"
            ]
          },
          "metadata": {},
          "execution_count": 17
        }
      ]
    },
    {
      "cell_type": "code",
      "metadata": {
        "colab": {
          "base_uri": "https://localhost:8080/"
        },
        "id": "5VTE1gemzWh1",
        "outputId": "722678c9-0dae-411e-e748-b52e1babf930"
      },
      "source": [
        "# comparando con el todal de datos, 86539 + 5202 = 91741\n",
        "ri.shape"
      ],
      "execution_count": null,
      "outputs": [
        {
          "output_type": "execute_result",
          "data": {
            "text/plain": [
              "(91741, 14)"
            ]
          },
          "metadata": {},
          "execution_count": 18
        }
      ]
    },
    {
      "cell_type": "code",
      "metadata": {
        "colab": {
          "base_uri": "https://localhost:8080/"
        },
        "id": "m051GXMvzYXC",
        "outputId": "e8d5846c-8d0a-4dba-e9b8-07c8104ad335"
      },
      "source": [
        "# contabilizando ahora los conductores por raza\n",
        "ri.driver_race.value_counts()"
      ],
      "execution_count": null,
      "outputs": [
        {
          "output_type": "execute_result",
          "data": {
            "text/plain": [
              "White       61872\n",
              "Black       12285\n",
              "Hispanic     9727\n",
              "Asian        2390\n",
              "Other         265\n",
              "Name: driver_race, dtype: int64"
            ]
          },
          "metadata": {},
          "execution_count": 19
        }
      ]
    },
    {
      "cell_type": "code",
      "metadata": {
        "colab": {
          "base_uri": "https://localhost:8080/"
        },
        "id": "OaEc_bys2s1B",
        "outputId": "5c778570-b8b4-4ed2-ca44-f32ca0a8710e"
      },
      "source": [
        "# sumando el total de datos\n",
        "ri.driver_race.value_counts().sum()"
      ],
      "execution_count": null,
      "outputs": [
        {
          "output_type": "execute_result",
          "data": {
            "text/plain": [
              "86539"
            ]
          },
          "metadata": {},
          "execution_count": 20
        }
      ]
    },
    {
      "cell_type": "code",
      "metadata": {
        "colab": {
          "base_uri": "https://localhost:8080/"
        },
        "id": "BN-_qeuh2wSL",
        "outputId": "6a1a3b94-bad4-4ffa-9337-1e2d52d70b89"
      },
      "source": [
        "# analizando sólo un conductores blancos\n",
        "white = ri.query('driver_race == \"White\"')\n",
        "white.shape"
      ],
      "execution_count": null,
      "outputs": [
        {
          "output_type": "execute_result",
          "data": {
            "text/plain": [
              "(61872, 14)"
            ]
          },
          "metadata": {},
          "execution_count": 21
        }
      ]
    },
    {
      "cell_type": "code",
      "metadata": {
        "colab": {
          "base_uri": "https://localhost:8080/"
        },
        "id": "z_kS3bZtE1m-",
        "outputId": "042ccfdf-8be8-4419-e456-2458ddf03bd6"
      },
      "source": [
        "# contando las paradas de tráfico para conductores blancos\n",
        "white.stop_outcome.value_counts(normalize=True)"
      ],
      "execution_count": null,
      "outputs": [
        {
          "output_type": "execute_result",
          "data": {
            "text/plain": [
              "Citation            0.902234\n",
              "Warning             0.057522\n",
              "Arrest Driver       0.024017\n",
              "No Action           0.007047\n",
              "N/D                 0.006433\n",
              "Arrest Passenger    0.002748\n",
              "Name: stop_outcome, dtype: float64"
            ]
          },
          "metadata": {},
          "execution_count": 22
        }
      ]
    },
    {
      "cell_type": "code",
      "metadata": {
        "colab": {
          "base_uri": "https://localhost:8080/"
        },
        "id": "Qxg0_DmrE768",
        "outputId": "c8f8d1b1-d4f1-4166-cc20-2df3ecb41977"
      },
      "source": [
        "# analizando conductores asiáticos\n",
        "asian = ri.query('driver_race == \"Asian\"')\n",
        "asian.shape"
      ],
      "execution_count": null,
      "outputs": [
        {
          "output_type": "execute_result",
          "data": {
            "text/plain": [
              "(2390, 14)"
            ]
          },
          "metadata": {},
          "execution_count": 23
        }
      ]
    },
    {
      "cell_type": "code",
      "metadata": {
        "colab": {
          "base_uri": "https://localhost:8080/"
        },
        "id": "g0jim2LtFLvW",
        "outputId": "da15a611-1c31-43c3-a0c4-2432ac8410bf"
      },
      "source": [
        "# contando las paradas de tráfico de conductores asiáticos\n",
        "asian.stop_outcome.value_counts(normalize=True)"
      ],
      "execution_count": null,
      "outputs": [
        {
          "output_type": "execute_result",
          "data": {
            "text/plain": [
              "Citation            0.923013\n",
              "Warning             0.045188\n",
              "Arrest Driver       0.017573\n",
              "No Action           0.008368\n",
              "N/D                 0.004184\n",
              "Arrest Passenger    0.001674\n",
              "Name: stop_outcome, dtype: float64"
            ]
          },
          "metadata": {},
          "execution_count": 24
        }
      ]
    },
    {
      "cell_type": "code",
      "metadata": {
        "colab": {
          "base_uri": "https://localhost:8080/"
        },
        "id": "bWowgMZhkkwT",
        "outputId": "cc721f6f-afae-4fc1-f34d-ca030aafaebb"
      },
      "source": [
        "# contabilizando las infracciones\n",
        "ri.violation.value_counts()"
      ],
      "execution_count": null,
      "outputs": [
        {
          "output_type": "execute_result",
          "data": {
            "text/plain": [
              "Speeding               48424\n",
              "Moving violation       16224\n",
              "Equipment              10922\n",
              "Other                   4410\n",
              "Registration/plates     3703\n",
              "Seat belt               2856\n",
              "Name: violation, dtype: int64"
            ]
          },
          "metadata": {},
          "execution_count": 25
        }
      ]
    },
    {
      "cell_type": "code",
      "metadata": {
        "colab": {
          "base_uri": "https://localhost:8080/"
        },
        "id": "jcqniRcjlGiY",
        "outputId": "dc9cd797-13f6-4f5c-dc0d-624029d5f917"
      },
      "source": [
        "# contabilizando con porcentajes\n",
        "ri.violation.value_counts(normalize=True)"
      ],
      "execution_count": null,
      "outputs": [
        {
          "output_type": "execute_result",
          "data": {
            "text/plain": [
              "Speeding               0.559563\n",
              "Moving violation       0.187476\n",
              "Equipment              0.126209\n",
              "Other                  0.050960\n",
              "Registration/plates    0.042790\n",
              "Seat belt              0.033002\n",
              "Name: violation, dtype: float64"
            ]
          },
          "metadata": {},
          "execution_count": 26
        }
      ]
    },
    {
      "cell_type": "code",
      "metadata": {
        "colab": {
          "base_uri": "https://localhost:8080/"
        },
        "id": "qC1BZsgGkjVt",
        "outputId": "a3f4cc5e-ec31-4369-a210-eeb0c9e121ae"
      },
      "source": [
        "# DataFrame de Mujeres\n",
        "female = ri[ri.driver_gender == 'F']\n",
        "female.shape"
      ],
      "execution_count": null,
      "outputs": [
        {
          "output_type": "execute_result",
          "data": {
            "text/plain": [
              "(23774, 14)"
            ]
          },
          "metadata": {},
          "execution_count": 27
        }
      ]
    },
    {
      "cell_type": "code",
      "metadata": {
        "colab": {
          "base_uri": "https://localhost:8080/"
        },
        "id": "UzTC6RDuASD0",
        "outputId": "268b54fc-b9e9-4f23-a0cd-fa30d44a9875"
      },
      "source": [
        "# DataFrame de Hombres\n",
        "male = ri[ri.driver_gender == 'M']\n",
        "male.shape"
      ],
      "execution_count": null,
      "outputs": [
        {
          "output_type": "execute_result",
          "data": {
            "text/plain": [
              "(62762, 14)"
            ]
          },
          "metadata": {},
          "execution_count": 28
        }
      ]
    },
    {
      "cell_type": "code",
      "metadata": {
        "colab": {
          "base_uri": "https://localhost:8080/"
        },
        "id": "_Sio6VYJohZS",
        "outputId": "11fcd2e0-2435-4f09-e0c0-fbc8950b855d"
      },
      "source": [
        "# total de infracciones de Mujeres\n",
        "female.violation.value_counts().sum()"
      ],
      "execution_count": null,
      "outputs": [
        {
          "output_type": "execute_result",
          "data": {
            "text/plain": [
              "23774"
            ]
          },
          "metadata": {},
          "execution_count": 29
        }
      ]
    },
    {
      "cell_type": "code",
      "metadata": {
        "colab": {
          "base_uri": "https://localhost:8080/"
        },
        "id": "Gln4mafVolUP",
        "outputId": "a6ecca89-3755-4e80-d43d-1d7706eafab6"
      },
      "source": [
        "# total de infracciones de Hombres\n",
        "male.violation.value_counts().sum()"
      ],
      "execution_count": null,
      "outputs": [
        {
          "output_type": "execute_result",
          "data": {
            "text/plain": [
              "62762"
            ]
          },
          "metadata": {},
          "execution_count": 30
        }
      ]
    },
    {
      "cell_type": "code",
      "metadata": {
        "colab": {
          "base_uri": "https://localhost:8080/"
        },
        "id": "6FoNp9KblPGP",
        "outputId": "943d3f8c-fd68-4245-d62d-ed28e862f728"
      },
      "source": [
        "# contabilizando infracciones de Mujeres\n",
        "female.violation.value_counts(normalize=True)"
      ],
      "execution_count": null,
      "outputs": [
        {
          "output_type": "execute_result",
          "data": {
            "text/plain": [
              "Speeding               0.658114\n",
              "Moving violation       0.138218\n",
              "Equipment              0.105199\n",
              "Registration/plates    0.044418\n",
              "Other                  0.029738\n",
              "Seat belt              0.024312\n",
              "Name: violation, dtype: float64"
            ]
          },
          "metadata": {},
          "execution_count": 31
        }
      ]
    },
    {
      "cell_type": "code",
      "metadata": {
        "colab": {
          "base_uri": "https://localhost:8080/"
        },
        "id": "2ilBaUXblTsA",
        "outputId": "c1859a3f-efd0-4043-b2fb-f90cf27f7ea7"
      },
      "source": [
        "# contabilizando infracciones de Hombres\n",
        "male.violation.value_counts(normalize=True)"
      ],
      "execution_count": null,
      "outputs": [
        {
          "output_type": "execute_result",
          "data": {
            "text/plain": [
              "Speeding               0.522243\n",
              "Moving violation       0.206144\n",
              "Equipment              0.134158\n",
              "Other                  0.058985\n",
              "Registration/plates    0.042175\n",
              "Seat belt              0.036296\n",
              "Name: violation, dtype: float64"
            ]
          },
          "metadata": {},
          "execution_count": 32
        }
      ]
    },
    {
      "cell_type": "markdown",
      "metadata": {
        "id": "gjr2TEh8pUax"
      },
      "source": [
        "#### ¿Obtener un ticket de infracción es afectado por el género?\n",
        "\n",
        "\n"
      ]
    },
    {
      "cell_type": "code",
      "metadata": {
        "colab": {
          "base_uri": "https://localhost:8080/"
        },
        "id": "HKA6lVJQoZyV",
        "outputId": "6bcc3268-eaa0-4c2d-8746-29ad85653ee3"
      },
      "source": [
        "# DataFrame de Mujeres que han sido arrestadas\n",
        "female_and_arrested = ri.query('driver_gender ==\"F\" and is_arrested == True')\n",
        "female_and_arrested.shape"
      ],
      "execution_count": null,
      "outputs": [
        {
          "output_type": "execute_result",
          "data": {
            "text/plain": [
              "(669, 14)"
            ]
          },
          "metadata": {},
          "execution_count": 33
        }
      ]
    },
    {
      "cell_type": "code",
      "metadata": {
        "colab": {
          "base_uri": "https://localhost:8080/"
        },
        "id": "8IpEfXoSuexk",
        "outputId": "3ea987bb-6106-403d-9bb6-2c1c5b70a04f"
      },
      "source": [
        "male_and_arrested = ri.query('driver_gender ==\"M\" and is_arrested == True')\n",
        "male_and_arrested.shape"
      ],
      "execution_count": null,
      "outputs": [
        {
          "output_type": "execute_result",
          "data": {
            "text/plain": [
              "(2409, 14)"
            ]
          },
          "metadata": {},
          "execution_count": 34
        }
      ]
    },
    {
      "cell_type": "code",
      "metadata": {
        "colab": {
          "base_uri": "https://localhost:8080/"
        },
        "id": "d1z3xCwQr5FM",
        "outputId": "dd4afec9-d12b-4807-f6b0-d60e98eb22b6"
      },
      "source": [
        "# DataFrame de Mujeres o de personas arrestadas\n",
        "female_or_arrested = ri[(ri.driver_gender == 'F') | (ri.is_arrested == True)]\n",
        "female_or_arrested.shape"
      ],
      "execution_count": null,
      "outputs": [
        {
          "output_type": "execute_result",
          "data": {
            "text/plain": [
              "(31385, 14)"
            ]
          },
          "metadata": {},
          "execution_count": 35
        }
      ]
    },
    {
      "cell_type": "markdown",
      "metadata": {
        "id": "V_V58m7_tkbz"
      },
      "source": [
        "### Comparando infracciones por exceso de velocidad por género"
      ]
    },
    {
      "cell_type": "code",
      "metadata": {
        "colab": {
          "base_uri": "https://localhost:8080/"
        },
        "id": "kPOS-05RscDB",
        "outputId": "d151e6e8-412d-4952-8978-06de0015eb54"
      },
      "source": [
        "# DataFrame de mujeres conductoras detenidas por exceso de velocidad\n",
        "female_and_speeding = ri[(ri.driver_gender == 'F') & (ri.violation == 'Speeding')]\n",
        "female_and_speeding.shape"
      ],
      "execution_count": null,
      "outputs": [
        {
          "output_type": "execute_result",
          "data": {
            "text/plain": [
              "(15646, 14)"
            ]
          },
          "metadata": {},
          "execution_count": 36
        }
      ]
    },
    {
      "cell_type": "code",
      "metadata": {
        "colab": {
          "base_uri": "https://localhost:8080/"
        },
        "id": "6i-6_KfoPfjO",
        "outputId": "ccceb391-c0c0-4d01-febe-255a23214e50"
      },
      "source": [
        "# DataFrame de hombres conductores detenidos por exceso de velocidad\n",
        "male_and_speeding = ri[(ri.driver_gender == 'M') & (ri.violation == 'Speeding')]\n",
        "male_and_speeding.shape"
      ],
      "execution_count": null,
      "outputs": [
        {
          "output_type": "execute_result",
          "data": {
            "text/plain": [
              "(32777, 14)"
            ]
          },
          "metadata": {},
          "execution_count": 37
        }
      ]
    },
    {
      "cell_type": "code",
      "metadata": {
        "colab": {
          "base_uri": "https://localhost:8080/"
        },
        "id": "n2RjBiy4QEV6",
        "outputId": "34aec8bf-bf20-4d17-9847-5bf061de4dbe"
      },
      "source": [
        "# contabilizando el porcentaje de \"tickets\" contra \"warnings\" en mujeres\n",
        "female_and_speeding.stop_outcome.value_counts(normalize=True)"
      ],
      "execution_count": null,
      "outputs": [
        {
          "output_type": "execute_result",
          "data": {
            "text/plain": [
              "Citation            0.952192\n",
              "Warning             0.040074\n",
              "Arrest Driver       0.005752\n",
              "N/D                 0.000959\n",
              "Arrest Passenger    0.000639\n",
              "No Action           0.000383\n",
              "Name: stop_outcome, dtype: float64"
            ]
          },
          "metadata": {},
          "execution_count": 38
        }
      ]
    },
    {
      "cell_type": "code",
      "metadata": {
        "colab": {
          "base_uri": "https://localhost:8080/"
        },
        "id": "B-CRaW_ZRnUg",
        "outputId": "59219ccb-b67e-4a86-f0f3-b07cb7b9a8b2"
      },
      "source": [
        "# contabilizando el porcentaje de \"tickets\" contra \"warnings\" en hombres\n",
        "male_and_speeding.stop_outcome.value_counts(normalize=True)"
      ],
      "execution_count": null,
      "outputs": [
        {
          "output_type": "execute_result",
          "data": {
            "text/plain": [
              "Citation            0.944595\n",
              "Warning             0.036184\n",
              "Arrest Driver       0.015895\n",
              "Arrest Passenger    0.001281\n",
              "No Action           0.001068\n",
              "N/D                 0.000976\n",
              "Name: stop_outcome, dtype: float64"
            ]
          },
          "metadata": {},
          "execution_count": 39
        }
      ]
    },
    {
      "cell_type": "markdown",
      "metadata": {
        "id": "Q7g6xQxWTT4u"
      },
      "source": [
        "### ¿Afecta el género a quiénes se les registra el vehículo?"
      ]
    },
    {
      "cell_type": "code",
      "metadata": {
        "colab": {
          "base_uri": "https://localhost:8080/"
        },
        "id": "h__NLnpOsWSW",
        "outputId": "322f9ced-b9f2-4589-efe4-074820813481"
      },
      "source": [
        "# porcentaje de paradas de tráfico que resultan en arresto\n",
        "ri.is_arrested.value_counts(normalize=True)"
      ],
      "execution_count": null,
      "outputs": [
        {
          "output_type": "execute_result",
          "data": {
            "text/plain": [
              "False    0.909746\n",
              "True     0.090254\n",
              "Name: is_arrested, dtype: float64"
            ]
          },
          "metadata": {},
          "execution_count": 40
        }
      ]
    },
    {
      "cell_type": "code",
      "metadata": {
        "colab": {
          "base_uri": "https://localhost:8080/"
        },
        "id": "-BueFNBV7M1f",
        "outputId": "00b96af9-f5ac-40a2-d30f-76574e0c4d95"
      },
      "source": [
        "# obtenemos el mismo resultado con mean()\n",
        "ri.is_arrested.mean()"
      ],
      "execution_count": null,
      "outputs": [
        {
          "output_type": "execute_result",
          "data": {
            "text/plain": [
              "0.09025408486936048"
            ]
          },
          "metadata": {},
          "execution_count": 41
        }
      ]
    },
    {
      "cell_type": "code",
      "metadata": {
        "colab": {
          "base_uri": "https://localhost:8080/"
        },
        "id": "UDt9CsQrK-l1",
        "outputId": "c42d8ddb-7d9a-42c6-e56d-7fc4af01ee9c"
      },
      "source": [
        "# esto funciona porque el tipo de dato es boolean\n",
        "ri.is_arrested.dtype"
      ],
      "execution_count": null,
      "outputs": [
        {
          "output_type": "execute_result",
          "data": {
            "text/plain": [
              "dtype('bool')"
            ]
          },
          "metadata": {},
          "execution_count": 42
        }
      ]
    },
    {
      "cell_type": "code",
      "metadata": {
        "colab": {
          "base_uri": "https://localhost:8080/"
        },
        "id": "VnezyrRaLHrM",
        "outputId": "b8807f37-542f-4f7c-e68b-6e5badc50ff6"
      },
      "source": [
        "# sacamos los distritos que existen en nuestro dataset\n",
        "ri.district.unique()"
      ],
      "execution_count": null,
      "outputs": [
        {
          "output_type": "execute_result",
          "data": {
            "text/plain": [
              "array(['Zone X4', 'Zone K3', 'Zone X1', 'Zone X3', 'Zone K1', 'Zone K2'],\n",
              "      dtype=object)"
            ]
          },
          "metadata": {},
          "execution_count": 43
        }
      ]
    },
    {
      "cell_type": "code",
      "metadata": {
        "colab": {
          "base_uri": "https://localhost:8080/"
        },
        "id": "Wh7u6MCqLrtB",
        "outputId": "16b70d17-8638-4846-8c43-0b52c51d398c"
      },
      "source": [
        "# para sacar la tasa de arrestros por distrito, podemos sacarlo uno por uno\n",
        "ri[ri.district == 'Zone K1'].is_arrested.mean()"
      ],
      "execution_count": null,
      "outputs": [
        {
          "output_type": "execute_result",
          "data": {
            "text/plain": [
              "0.06718137819774142"
            ]
          },
          "metadata": {},
          "execution_count": 44
        }
      ]
    },
    {
      "cell_type": "code",
      "metadata": {
        "colab": {
          "base_uri": "https://localhost:8080/"
        },
        "id": "ejQ67IrJMwLt",
        "outputId": "5b7d7a28-7bbc-41b0-fab0-ed6678f11509"
      },
      "source": [
        "ri[ri.district == 'Zone K2'].is_arrested.mean()"
      ],
      "execution_count": null,
      "outputs": [
        {
          "output_type": "execute_result",
          "data": {
            "text/plain": [
              "0.06952220470728923"
            ]
          },
          "metadata": {},
          "execution_count": 45
        }
      ]
    },
    {
      "cell_type": "code",
      "metadata": {
        "colab": {
          "base_uri": "https://localhost:8080/"
        },
        "id": "ZMqHu-SaNEK9",
        "outputId": "fd64036b-8821-4ff9-bbc3-df5f5bbb2826"
      },
      "source": [
        "# o podemos usar la función groupby para obtener la tasa de arrestos de los 6 distritos\n",
        "ri.groupby('district').is_arrested.mean()"
      ],
      "execution_count": null,
      "outputs": [
        {
          "output_type": "execute_result",
          "data": {
            "text/plain": [
              "district\n",
              "Zone K1    0.067181\n",
              "Zone K2    0.069522\n",
              "Zone K3    0.072286\n",
              "Zone X1    0.230044\n",
              "Zone X3    0.082466\n",
              "Zone X4    0.117674\n",
              "Name: is_arrested, dtype: float64"
            ]
          },
          "metadata": {},
          "execution_count": 46
        }
      ]
    },
    {
      "cell_type": "code",
      "metadata": {
        "colab": {
          "base_uri": "https://localhost:8080/"
        },
        "id": "hmEz_Ck9OoNt",
        "outputId": "9a4d1861-8b70-4693-843d-fed288fc4b79"
      },
      "source": [
        "# podemos agrupar diferentes categorias a la vez\n",
        "ri.groupby(['district', 'driver_gender']).is_arrested.mean()"
      ],
      "execution_count": null,
      "outputs": [
        {
          "output_type": "execute_result",
          "data": {
            "text/plain": [
              "district  driver_gender\n",
              "Zone K1   F                0.019169\n",
              "          M                0.026588\n",
              "Zone K2   F                0.022196\n",
              "          M                0.034285\n",
              "Zone K3   F                0.025156\n",
              "          M                0.034961\n",
              "Zone X1   F                0.019646\n",
              "          M                0.024563\n",
              "Zone X3   F                0.027188\n",
              "          M                0.038166\n",
              "Zone X4   F                0.042149\n",
              "          M                0.049956\n",
              "Name: is_arrested, dtype: float64"
            ]
          },
          "metadata": {},
          "execution_count": 47
        }
      ]
    },
    {
      "cell_type": "code",
      "metadata": {
        "colab": {
          "base_uri": "https://localhost:8080/"
        },
        "id": "Z0y2C0fBO9Dk",
        "outputId": "fb27d1ec-fc72-4e89-d0bf-26c809b1a7a2"
      },
      "source": [
        "# aquí tenemos el mismo resultado con otra mejor presentación\n",
        "ri.groupby(['driver_gender', 'district']).is_arrested.mean()"
      ],
      "execution_count": null,
      "outputs": [
        {
          "output_type": "execute_result",
          "data": {
            "text/plain": [
              "driver_gender  district\n",
              "F              Zone K1     0.019169\n",
              "               Zone K2     0.022196\n",
              "               Zone K3     0.025156\n",
              "               Zone X1     0.019646\n",
              "               Zone X3     0.027188\n",
              "               Zone X4     0.042149\n",
              "M              Zone K1     0.026588\n",
              "               Zone K2     0.034285\n",
              "               Zone K3     0.034961\n",
              "               Zone X1     0.024563\n",
              "               Zone X3     0.038166\n",
              "               Zone X4     0.049956\n",
              "Name: is_arrested, dtype: float64"
            ]
          },
          "metadata": {},
          "execution_count": 48
        }
      ]
    },
    {
      "cell_type": "code",
      "metadata": {
        "colab": {
          "base_uri": "https://localhost:8080/"
        },
        "id": "L6OoY84fPc7R",
        "outputId": "24a017ff-99ff-4a1c-ca60-b02cd0a491a8"
      },
      "source": [
        "# tipo de dato de \"search_conducted\"\n",
        "ri.search_conducted.dtype"
      ],
      "execution_count": null,
      "outputs": [
        {
          "output_type": "execute_result",
          "data": {
            "text/plain": [
              "dtype('bool')"
            ]
          },
          "metadata": {},
          "execution_count": 49
        }
      ]
    },
    {
      "cell_type": "code",
      "metadata": {
        "colab": {
          "base_uri": "https://localhost:8080/"
        },
        "id": "uYaqJbVcO5uc",
        "outputId": "5edb5e3d-b5bb-4c91-d4c7-5f9f99deb1ce"
      },
      "source": [
        "# Tasa de revisión de vehiculos por value_counts\n",
        "ri.search_conducted.value_counts(normalize=True)"
      ],
      "execution_count": null,
      "outputs": [
        {
          "output_type": "execute_result",
          "data": {
            "text/plain": [
              "False    0.963953\n",
              "True     0.036047\n",
              "Name: search_conducted, dtype: float64"
            ]
          },
          "metadata": {},
          "execution_count": 50
        }
      ]
    },
    {
      "cell_type": "code",
      "metadata": {
        "colab": {
          "base_uri": "https://localhost:8080/"
        },
        "id": "ibGI8jU7OeWP",
        "outputId": "1eebf8e9-29f8-4386-f0e7-34d0c8e3ff2e"
      },
      "source": [
        "# Tasa de revisión de vehículos a través del calculo del promedio\n",
        "ri.search_conducted.mean()"
      ],
      "execution_count": null,
      "outputs": [
        {
          "output_type": "execute_result",
          "data": {
            "text/plain": [
              "0.03604713268876511"
            ]
          },
          "metadata": {},
          "execution_count": 51
        }
      ]
    },
    {
      "cell_type": "code",
      "metadata": {
        "colab": {
          "base_uri": "https://localhost:8080/"
        },
        "id": "41l-Th4tW79C",
        "outputId": "1a7e7f03-1086-4f5b-c025-0ac6031fd109"
      },
      "source": [
        "# Tasa de búsqueda de vehículo de mujeres conductoras\n",
        "ri[ri.driver_gender == 'F'].search_conducted.mean()"
      ],
      "execution_count": null,
      "outputs": [
        {
          "output_type": "execute_result",
          "data": {
            "text/plain": [
              "0.019180617481282074"
            ]
          },
          "metadata": {},
          "execution_count": 52
        }
      ]
    },
    {
      "cell_type": "code",
      "metadata": {
        "colab": {
          "base_uri": "https://localhost:8080/"
        },
        "id": "kB2RC_sDXNc6",
        "outputId": "e76479c7-a1a6-48a9-a5f9-aea3347a670b"
      },
      "source": [
        "# Tasa de búsqueda de vehículo de hombres\n",
        "ri[ri.driver_gender == 'M'].search_conducted.mean()"
      ],
      "execution_count": null,
      "outputs": [
        {
          "output_type": "execute_result",
          "data": {
            "text/plain": [
              "0.04542557598546892"
            ]
          },
          "metadata": {},
          "execution_count": 53
        }
      ]
    },
    {
      "cell_type": "code",
      "metadata": {
        "colab": {
          "base_uri": "https://localhost:8080/"
        },
        "id": "aWzPbmS5VlFY",
        "outputId": "ea3303dc-ec4e-4471-a17b-c8b603abf91f"
      },
      "source": [
        "# Tasa de búsqueda de vehículo por género\n",
        "ri.groupby('driver_gender').search_conducted.mean()"
      ],
      "execution_count": null,
      "outputs": [
        {
          "output_type": "execute_result",
          "data": {
            "text/plain": [
              "driver_gender\n",
              "F    0.019181\n",
              "M    0.045426\n",
              "Name: search_conducted, dtype: float64"
            ]
          },
          "metadata": {},
          "execution_count": 54
        }
      ]
    },
    {
      "cell_type": "code",
      "metadata": {
        "colab": {
          "base_uri": "https://localhost:8080/"
        },
        "id": "0dWtckqcVWzs",
        "outputId": "a46d1665-8bfb-49c3-f293-6cca25a3928d"
      },
      "source": [
        "# agregando un segundo factor de análisis: el tipo de infracción\n",
        "ri.groupby(['driver_gender', 'violation']).search_conducted.mean()"
      ],
      "execution_count": null,
      "outputs": [
        {
          "output_type": "execute_result",
          "data": {
            "text/plain": [
              "driver_gender  violation          \n",
              "F              Equipment              0.039984\n",
              "               Moving violation       0.039257\n",
              "               Other                  0.041018\n",
              "               Registration/plates    0.054924\n",
              "               Seat belt              0.017301\n",
              "               Speeding               0.008309\n",
              "M              Equipment              0.071496\n",
              "               Moving violation       0.061524\n",
              "               Other                  0.046191\n",
              "               Registration/plates    0.108802\n",
              "               Seat belt              0.035119\n",
              "               Speeding               0.027885\n",
              "Name: search_conducted, dtype: float64"
            ]
          },
          "metadata": {},
          "execution_count": 55
        }
      ]
    },
    {
      "cell_type": "code",
      "metadata": {
        "colab": {
          "base_uri": "https://localhost:8080/"
        },
        "id": "rQ6KbjTiVdO7",
        "outputId": "63db373e-e3e5-4840-d990-0e07edade69c"
      },
      "source": [
        "# o cambiando el orden de agrupación para comparar si tienen la misma tasa\n",
        "# de revisión de vehículo por cada tipo de infracción\n",
        "ri.groupby(['violation', 'driver_gender']).search_conducted.mean()"
      ],
      "execution_count": null,
      "outputs": [
        {
          "output_type": "execute_result",
          "data": {
            "text/plain": [
              "violation            driver_gender\n",
              "Equipment            F                0.039984\n",
              "                     M                0.071496\n",
              "Moving violation     F                0.039257\n",
              "                     M                0.061524\n",
              "Other                F                0.041018\n",
              "                     M                0.046191\n",
              "Registration/plates  F                0.054924\n",
              "                     M                0.108802\n",
              "Seat belt            F                0.017301\n",
              "                     M                0.035119\n",
              "Speeding             F                0.008309\n",
              "                     M                0.027885\n",
              "Name: search_conducted, dtype: float64"
            ]
          },
          "metadata": {},
          "execution_count": 56
        }
      ]
    },
    {
      "cell_type": "markdown",
      "metadata": {
        "id": "eWx46abMXOdC"
      },
      "source": [
        "### ¿Afecta el género a quién es cacheado durante una búsqueda?"
      ]
    },
    {
      "cell_type": "code",
      "metadata": {
        "colab": {
          "base_uri": "https://localhost:8080/"
        },
        "id": "UoBF-9_qWpEB",
        "outputId": "acef5580-af27-4115-a908-46759b7f755b"
      },
      "source": [
        "# Cuántas revisiones hubo en una parada de tráfico?\n",
        "ri.search_conducted.value_counts()"
      ],
      "execution_count": null,
      "outputs": [
        {
          "output_type": "execute_result",
          "data": {
            "text/plain": [
              "False    88434\n",
              "True      3307\n",
              "Name: search_conducted, dtype: int64"
            ]
          },
          "metadata": {},
          "execution_count": 57
        }
      ]
    },
    {
      "cell_type": "code",
      "metadata": {
        "colab": {
          "base_uri": "https://localhost:8080/"
        },
        "id": "UwH0-UDgWnhT",
        "outputId": "d9f0c327-a5a1-49e1-cb4b-7e90fa703c82"
      },
      "source": [
        "# el campo \"search_type\" contiene información adicional sobde la búsqueda\n",
        "# cómo es de esperarse, hay datos sólo cuando sí hay revisión\n",
        "ri.search_type.value_counts().sum()"
      ],
      "execution_count": null,
      "outputs": [
        {
          "output_type": "execute_result",
          "data": {
            "text/plain": [
              "3307"
            ]
          },
          "metadata": {},
          "execution_count": 58
        }
      ]
    },
    {
      "cell_type": "code",
      "metadata": {
        "colab": {
          "base_uri": "https://localhost:8080/"
        },
        "id": "c37rK41CceNv",
        "outputId": "db563b76-0cd7-4f0d-feca-7f5b358314ef"
      },
      "source": [
        "# el parámetro dropna=False, nos da también la información de valores nulos\n",
        "ri.search_type.value_counts(dropna=False)"
      ],
      "execution_count": null,
      "outputs": [
        {
          "output_type": "execute_result",
          "data": {
            "text/plain": [
              "NaN                                                         88434\n",
              "Incident to Arrest                                           1290\n",
              "Probable Cause                                                924\n",
              "Inventory                                                     219\n",
              "Reasonable Suspicion                                          214\n",
              "Protective Frisk                                              164\n",
              "Incident to Arrest,Inventory                                  123\n",
              "Incident to Arrest,Probable Cause                             100\n",
              "Probable Cause,Reasonable Suspicion                            54\n",
              "Probable Cause,Protective Frisk                                35\n",
              "Incident to Arrest,Inventory,Probable Cause                    35\n",
              "Incident to Arrest,Protective Frisk                            33\n",
              "Inventory,Probable Cause                                       25\n",
              "Protective Frisk,Reasonable Suspicion                          19\n",
              "Incident to Arrest,Inventory,Protective Frisk                  18\n",
              "Incident to Arrest,Probable Cause,Protective Frisk             13\n",
              "Inventory,Protective Frisk                                     12\n",
              "Incident to Arrest,Reasonable Suspicion                         8\n",
              "Probable Cause,Protective Frisk,Reasonable Suspicion            5\n",
              "Incident to Arrest,Probable Cause,Reasonable Suspicion          5\n",
              "Incident to Arrest,Inventory,Reasonable Suspicion               4\n",
              "Inventory,Reasonable Suspicion                                  2\n",
              "Incident to Arrest,Protective Frisk,Reasonable Suspicion        2\n",
              "Inventory,Probable Cause,Protective Frisk                       1\n",
              "Inventory,Probable Cause,Reasonable Suspicion                   1\n",
              "Inventory,Protective Frisk,Reasonable Suspicion                 1\n",
              "Name: search_type, dtype: int64"
            ]
          },
          "metadata": {},
          "execution_count": 59
        }
      ]
    },
    {
      "cell_type": "markdown",
      "metadata": {
        "id": "6s-oLX5JeOQz"
      },
      "source": [
        "El **inventario** es cuando el policía hizo un inventario del vehículo\n",
        "\n",
        "Centrandonos en el inventario, qué pasa si queremos sacar el total de revisiones de vehículo de los cuales hubo inventario, incluyendo aquellas que tienen multiples valores"
      ]
    },
    {
      "cell_type": "code",
      "metadata": {
        "colab": {
          "base_uri": "https://localhost:8080/"
        },
        "id": "H5d5VKN9dQ_e",
        "outputId": "e5123b58-97f8-4bfc-ab15-411193b7ecd4"
      },
      "source": [
        "# contains es un método para buscar si un elemento está contenido en una cadena\n",
        "# regresa un True si lo contiene, un False en caso contrario\n",
        "# y con na=False regresa un False si search_type está vacio \n",
        "ri['inventory'] = ri.search_type.str.contains('Inventory', na=False)\n",
        "ri.head(5)"
      ],
      "execution_count": null,
      "outputs": [
        {
          "output_type": "execute_result",
          "data": {
            "text/html": [
              "<div>\n",
              "<style scoped>\n",
              "    .dataframe tbody tr th:only-of-type {\n",
              "        vertical-align: middle;\n",
              "    }\n",
              "\n",
              "    .dataframe tbody tr th {\n",
              "        vertical-align: top;\n",
              "    }\n",
              "\n",
              "    .dataframe thead th {\n",
              "        text-align: right;\n",
              "    }\n",
              "</style>\n",
              "<table border=\"1\" class=\"dataframe\">\n",
              "  <thead>\n",
              "    <tr style=\"text-align: right;\">\n",
              "      <th></th>\n",
              "      <th>state</th>\n",
              "      <th>stop_date</th>\n",
              "      <th>stop_time</th>\n",
              "      <th>driver_gender</th>\n",
              "      <th>driver_race</th>\n",
              "      <th>violation_raw</th>\n",
              "      <th>violation</th>\n",
              "      <th>search_conducted</th>\n",
              "      <th>search_type</th>\n",
              "      <th>stop_outcome</th>\n",
              "      <th>is_arrested</th>\n",
              "      <th>stop_duration</th>\n",
              "      <th>drugs_related_stop</th>\n",
              "      <th>district</th>\n",
              "      <th>inventory</th>\n",
              "    </tr>\n",
              "    <tr>\n",
              "      <th>stop_datetime</th>\n",
              "      <th></th>\n",
              "      <th></th>\n",
              "      <th></th>\n",
              "      <th></th>\n",
              "      <th></th>\n",
              "      <th></th>\n",
              "      <th></th>\n",
              "      <th></th>\n",
              "      <th></th>\n",
              "      <th></th>\n",
              "      <th></th>\n",
              "      <th></th>\n",
              "      <th></th>\n",
              "      <th></th>\n",
              "      <th></th>\n",
              "    </tr>\n",
              "  </thead>\n",
              "  <tbody>\n",
              "    <tr>\n",
              "      <th>2005-01-04 12:55:00</th>\n",
              "      <td>RI</td>\n",
              "      <td>2005-01-04</td>\n",
              "      <td>12:55</td>\n",
              "      <td>M</td>\n",
              "      <td>White</td>\n",
              "      <td>Equipment/Inspection Violation</td>\n",
              "      <td>Equipment</td>\n",
              "      <td>False</td>\n",
              "      <td>NaN</td>\n",
              "      <td>Citation</td>\n",
              "      <td>False</td>\n",
              "      <td>0-15 Min</td>\n",
              "      <td>False</td>\n",
              "      <td>Zone X4</td>\n",
              "      <td>False</td>\n",
              "    </tr>\n",
              "    <tr>\n",
              "      <th>2005-01-23 23:15:00</th>\n",
              "      <td>RI</td>\n",
              "      <td>2005-01-23</td>\n",
              "      <td>23:15</td>\n",
              "      <td>M</td>\n",
              "      <td>White</td>\n",
              "      <td>Speeding</td>\n",
              "      <td>Speeding</td>\n",
              "      <td>False</td>\n",
              "      <td>NaN</td>\n",
              "      <td>Citation</td>\n",
              "      <td>False</td>\n",
              "      <td>0-15 Min</td>\n",
              "      <td>False</td>\n",
              "      <td>Zone K3</td>\n",
              "      <td>False</td>\n",
              "    </tr>\n",
              "    <tr>\n",
              "      <th>2005-02-17 04:15:00</th>\n",
              "      <td>RI</td>\n",
              "      <td>2005-02-17</td>\n",
              "      <td>04:15</td>\n",
              "      <td>M</td>\n",
              "      <td>White</td>\n",
              "      <td>Speeding</td>\n",
              "      <td>Speeding</td>\n",
              "      <td>False</td>\n",
              "      <td>NaN</td>\n",
              "      <td>Citation</td>\n",
              "      <td>False</td>\n",
              "      <td>0-15 Min</td>\n",
              "      <td>False</td>\n",
              "      <td>Zone X4</td>\n",
              "      <td>False</td>\n",
              "    </tr>\n",
              "    <tr>\n",
              "      <th>2005-02-20 17:15:00</th>\n",
              "      <td>RI</td>\n",
              "      <td>2005-02-20</td>\n",
              "      <td>17:15</td>\n",
              "      <td>M</td>\n",
              "      <td>White</td>\n",
              "      <td>Call for Service</td>\n",
              "      <td>Other</td>\n",
              "      <td>False</td>\n",
              "      <td>NaN</td>\n",
              "      <td>Arrest Driver</td>\n",
              "      <td>True</td>\n",
              "      <td>16-30 Min</td>\n",
              "      <td>False</td>\n",
              "      <td>Zone X1</td>\n",
              "      <td>False</td>\n",
              "    </tr>\n",
              "    <tr>\n",
              "      <th>2005-02-24 01:20:00</th>\n",
              "      <td>RI</td>\n",
              "      <td>2005-02-24</td>\n",
              "      <td>01:20</td>\n",
              "      <td>F</td>\n",
              "      <td>White</td>\n",
              "      <td>Speeding</td>\n",
              "      <td>Speeding</td>\n",
              "      <td>False</td>\n",
              "      <td>NaN</td>\n",
              "      <td>Citation</td>\n",
              "      <td>False</td>\n",
              "      <td>0-15 Min</td>\n",
              "      <td>False</td>\n",
              "      <td>Zone X3</td>\n",
              "      <td>False</td>\n",
              "    </tr>\n",
              "  </tbody>\n",
              "</table>\n",
              "</div>"
            ],
            "text/plain": [
              "                    state   stop_date  ... district inventory\n",
              "stop_datetime                          ...                   \n",
              "2005-01-04 12:55:00    RI  2005-01-04  ...  Zone X4     False\n",
              "2005-01-23 23:15:00    RI  2005-01-23  ...  Zone K3     False\n",
              "2005-02-17 04:15:00    RI  2005-02-17  ...  Zone X4     False\n",
              "2005-02-20 17:15:00    RI  2005-02-20  ...  Zone X1     False\n",
              "2005-02-24 01:20:00    RI  2005-02-24  ...  Zone X3     False\n",
              "\n",
              "[5 rows x 15 columns]"
            ]
          },
          "metadata": {},
          "execution_count": 60
        }
      ]
    },
    {
      "cell_type": "code",
      "metadata": {
        "colab": {
          "base_uri": "https://localhost:8080/"
        },
        "id": "80E4tubarye8",
        "outputId": "b5117075-1177-44cc-b516-e0c79d2c590b"
      },
      "source": [
        "# total de revisiones en las que hubo inventario del vehículo\n",
        "ri.inventory.sum()"
      ],
      "execution_count": null,
      "outputs": [
        {
          "output_type": "execute_result",
          "data": {
            "text/plain": [
              "441"
            ]
          },
          "metadata": {},
          "execution_count": 61
        }
      ]
    },
    {
      "cell_type": "code",
      "metadata": {
        "colab": {
          "base_uri": "https://localhost:8080/"
        },
        "id": "wwVLXSCRr-Up",
        "outputId": "79002d69-b91c-4419-bb18-649513ccd765"
      },
      "source": [
        "# si queremos el porcentaje de revisiones que tuvieron inventario del vehículo,\n",
        "# podemos usar simplemente el mean() ?\n",
        "ri.inventory.mean()"
      ],
      "execution_count": null,
      "outputs": [
        {
          "output_type": "execute_result",
          "data": {
            "text/plain": [
              "0.0048070110419550695"
            ]
          },
          "metadata": {},
          "execution_count": 62
        }
      ]
    },
    {
      "cell_type": "code",
      "metadata": {
        "colab": {
          "base_uri": "https://localhost:8080/"
        },
        "id": "Nt8ap1o7qREW",
        "outputId": "11b906f4-287a-48a7-f4d5-16df7817b0b2"
      },
      "source": [
        "# el problema en el calculo anterior es que se incluyen dónde ni siquiera hubo revisión del vehículo\n",
        "# haciendo un nuevo DataFrame que contenga las detenciones con revisión de vehículo, tenemos\n",
        "searched = ri[ri.search_conducted == True]\n",
        "searched.inventory.mean()"
      ],
      "execution_count": null,
      "outputs": [
        {
          "output_type": "execute_result",
          "data": {
            "text/plain": [
              "0.13335349259147264"
            ]
          },
          "metadata": {},
          "execution_count": 63
        }
      ]
    },
    {
      "cell_type": "markdown",
      "metadata": {
        "id": "ZWIZEN9SvkYs"
      },
      "source": [
        "13.3 % de detenciones con revisión de vehículo incluyeron un inventario del mismo. "
      ]
    },
    {
      "cell_type": "markdown",
      "metadata": {
        "id": "IGj_q9u03kZs"
      },
      "source": [
        "**Contando cacheos**"
      ]
    },
    {
      "cell_type": "code",
      "metadata": {
        "id": "5Y8EfWyrp_xE",
        "colab": {
          "base_uri": "https://localhost:8080/"
        },
        "outputId": "e45842bf-9a54-44bc-98ce-5389bdb00ded"
      },
      "source": [
        "# número de chacheos\n",
        "ri.search_type.value_counts()"
      ],
      "execution_count": null,
      "outputs": [
        {
          "output_type": "execute_result",
          "data": {
            "text/plain": [
              "Incident to Arrest                                          1290\n",
              "Probable Cause                                               924\n",
              "Inventory                                                    219\n",
              "Reasonable Suspicion                                         214\n",
              "Protective Frisk                                             164\n",
              "Incident to Arrest,Inventory                                 123\n",
              "Incident to Arrest,Probable Cause                            100\n",
              "Probable Cause,Reasonable Suspicion                           54\n",
              "Incident to Arrest,Inventory,Probable Cause                   35\n",
              "Probable Cause,Protective Frisk                               35\n",
              "Incident to Arrest,Protective Frisk                           33\n",
              "Inventory,Probable Cause                                      25\n",
              "Protective Frisk,Reasonable Suspicion                         19\n",
              "Incident to Arrest,Inventory,Protective Frisk                 18\n",
              "Incident to Arrest,Probable Cause,Protective Frisk            13\n",
              "Inventory,Protective Frisk                                    12\n",
              "Incident to Arrest,Reasonable Suspicion                        8\n",
              "Probable Cause,Protective Frisk,Reasonable Suspicion           5\n",
              "Incident to Arrest,Probable Cause,Reasonable Suspicion         5\n",
              "Incident to Arrest,Inventory,Reasonable Suspicion              4\n",
              "Inventory,Reasonable Suspicion                                 2\n",
              "Incident to Arrest,Protective Frisk,Reasonable Suspicion       2\n",
              "Inventory,Probable Cause,Reasonable Suspicion                  1\n",
              "Inventory,Probable Cause,Protective Frisk                      1\n",
              "Inventory,Protective Frisk,Reasonable Suspicion                1\n",
              "Name: search_type, dtype: int64"
            ]
          },
          "metadata": {},
          "execution_count": 64
        }
      ]
    },
    {
      "cell_type": "code",
      "metadata": {
        "colab": {
          "base_uri": "https://localhost:8080/"
        },
        "id": "bVKMoDmXXbp3",
        "outputId": "2346a55c-c835-41be-b43d-61bfc7e82218"
      },
      "source": [
        "ri['frisk'] = ri.search_type.str.contains('Protective Frisk', na=False)\n",
        "ri.head(5)"
      ],
      "execution_count": null,
      "outputs": [
        {
          "output_type": "execute_result",
          "data": {
            "text/html": [
              "<div>\n",
              "<style scoped>\n",
              "    .dataframe tbody tr th:only-of-type {\n",
              "        vertical-align: middle;\n",
              "    }\n",
              "\n",
              "    .dataframe tbody tr th {\n",
              "        vertical-align: top;\n",
              "    }\n",
              "\n",
              "    .dataframe thead th {\n",
              "        text-align: right;\n",
              "    }\n",
              "</style>\n",
              "<table border=\"1\" class=\"dataframe\">\n",
              "  <thead>\n",
              "    <tr style=\"text-align: right;\">\n",
              "      <th></th>\n",
              "      <th>state</th>\n",
              "      <th>stop_date</th>\n",
              "      <th>stop_time</th>\n",
              "      <th>driver_gender</th>\n",
              "      <th>driver_race</th>\n",
              "      <th>violation_raw</th>\n",
              "      <th>violation</th>\n",
              "      <th>search_conducted</th>\n",
              "      <th>search_type</th>\n",
              "      <th>stop_outcome</th>\n",
              "      <th>is_arrested</th>\n",
              "      <th>stop_duration</th>\n",
              "      <th>drugs_related_stop</th>\n",
              "      <th>district</th>\n",
              "      <th>inventory</th>\n",
              "      <th>frisk</th>\n",
              "    </tr>\n",
              "    <tr>\n",
              "      <th>stop_datetime</th>\n",
              "      <th></th>\n",
              "      <th></th>\n",
              "      <th></th>\n",
              "      <th></th>\n",
              "      <th></th>\n",
              "      <th></th>\n",
              "      <th></th>\n",
              "      <th></th>\n",
              "      <th></th>\n",
              "      <th></th>\n",
              "      <th></th>\n",
              "      <th></th>\n",
              "      <th></th>\n",
              "      <th></th>\n",
              "      <th></th>\n",
              "      <th></th>\n",
              "    </tr>\n",
              "  </thead>\n",
              "  <tbody>\n",
              "    <tr>\n",
              "      <th>2005-01-04 12:55:00</th>\n",
              "      <td>RI</td>\n",
              "      <td>2005-01-04</td>\n",
              "      <td>12:55</td>\n",
              "      <td>M</td>\n",
              "      <td>White</td>\n",
              "      <td>Equipment/Inspection Violation</td>\n",
              "      <td>Equipment</td>\n",
              "      <td>False</td>\n",
              "      <td>NaN</td>\n",
              "      <td>Citation</td>\n",
              "      <td>False</td>\n",
              "      <td>0-15 Min</td>\n",
              "      <td>False</td>\n",
              "      <td>Zone X4</td>\n",
              "      <td>False</td>\n",
              "      <td>False</td>\n",
              "    </tr>\n",
              "    <tr>\n",
              "      <th>2005-01-23 23:15:00</th>\n",
              "      <td>RI</td>\n",
              "      <td>2005-01-23</td>\n",
              "      <td>23:15</td>\n",
              "      <td>M</td>\n",
              "      <td>White</td>\n",
              "      <td>Speeding</td>\n",
              "      <td>Speeding</td>\n",
              "      <td>False</td>\n",
              "      <td>NaN</td>\n",
              "      <td>Citation</td>\n",
              "      <td>False</td>\n",
              "      <td>0-15 Min</td>\n",
              "      <td>False</td>\n",
              "      <td>Zone K3</td>\n",
              "      <td>False</td>\n",
              "      <td>False</td>\n",
              "    </tr>\n",
              "    <tr>\n",
              "      <th>2005-02-17 04:15:00</th>\n",
              "      <td>RI</td>\n",
              "      <td>2005-02-17</td>\n",
              "      <td>04:15</td>\n",
              "      <td>M</td>\n",
              "      <td>White</td>\n",
              "      <td>Speeding</td>\n",
              "      <td>Speeding</td>\n",
              "      <td>False</td>\n",
              "      <td>NaN</td>\n",
              "      <td>Citation</td>\n",
              "      <td>False</td>\n",
              "      <td>0-15 Min</td>\n",
              "      <td>False</td>\n",
              "      <td>Zone X4</td>\n",
              "      <td>False</td>\n",
              "      <td>False</td>\n",
              "    </tr>\n",
              "    <tr>\n",
              "      <th>2005-02-20 17:15:00</th>\n",
              "      <td>RI</td>\n",
              "      <td>2005-02-20</td>\n",
              "      <td>17:15</td>\n",
              "      <td>M</td>\n",
              "      <td>White</td>\n",
              "      <td>Call for Service</td>\n",
              "      <td>Other</td>\n",
              "      <td>False</td>\n",
              "      <td>NaN</td>\n",
              "      <td>Arrest Driver</td>\n",
              "      <td>True</td>\n",
              "      <td>16-30 Min</td>\n",
              "      <td>False</td>\n",
              "      <td>Zone X1</td>\n",
              "      <td>False</td>\n",
              "      <td>False</td>\n",
              "    </tr>\n",
              "    <tr>\n",
              "      <th>2005-02-24 01:20:00</th>\n",
              "      <td>RI</td>\n",
              "      <td>2005-02-24</td>\n",
              "      <td>01:20</td>\n",
              "      <td>F</td>\n",
              "      <td>White</td>\n",
              "      <td>Speeding</td>\n",
              "      <td>Speeding</td>\n",
              "      <td>False</td>\n",
              "      <td>NaN</td>\n",
              "      <td>Citation</td>\n",
              "      <td>False</td>\n",
              "      <td>0-15 Min</td>\n",
              "      <td>False</td>\n",
              "      <td>Zone X3</td>\n",
              "      <td>False</td>\n",
              "      <td>False</td>\n",
              "    </tr>\n",
              "  </tbody>\n",
              "</table>\n",
              "</div>"
            ],
            "text/plain": [
              "                    state   stop_date stop_time  ... district inventory  frisk\n",
              "stop_datetime                                    ...                          \n",
              "2005-01-04 12:55:00    RI  2005-01-04     12:55  ...  Zone X4     False  False\n",
              "2005-01-23 23:15:00    RI  2005-01-23     23:15  ...  Zone K3     False  False\n",
              "2005-02-17 04:15:00    RI  2005-02-17     04:15  ...  Zone X4     False  False\n",
              "2005-02-20 17:15:00    RI  2005-02-20     17:15  ...  Zone X1     False  False\n",
              "2005-02-24 01:20:00    RI  2005-02-24     01:20  ...  Zone X3     False  False\n",
              "\n",
              "[5 rows x 16 columns]"
            ]
          },
          "metadata": {},
          "execution_count": 65
        }
      ]
    },
    {
      "cell_type": "code",
      "metadata": {
        "id": "m-eqIOuJeLN5"
      },
      "source": [
        "# DataFrame de detenciones con revisión vehicular\n",
        "searched = ri[ri.search_conducted == True]"
      ],
      "execution_count": null,
      "outputs": []
    },
    {
      "cell_type": "code",
      "metadata": {
        "colab": {
          "base_uri": "https://localhost:8080/"
        },
        "id": "ILUN2LZZqfRi",
        "outputId": "55262b7b-3188-4cae-da4d-21e57fc42a35"
      },
      "source": [
        "# tasa de detenciones vehículares con cacheo\n",
        "searched.frisk.mean()"
      ],
      "execution_count": null,
      "outputs": [
        {
          "output_type": "execute_result",
          "data": {
            "text/plain": [
              "0.09162382824312065"
            ]
          },
          "metadata": {},
          "execution_count": 67
        }
      ]
    },
    {
      "cell_type": "code",
      "metadata": {
        "id": "v-bxtPl1ccvM",
        "colab": {
          "base_uri": "https://localhost:8080/"
        },
        "outputId": "1cad2613-0f69-43d9-dabb-6d1cebdc35c8"
      },
      "source": [
        "# tasa de cacheos por género\n",
        "searched.groupby('driver_gender').frisk.mean()"
      ],
      "execution_count": null,
      "outputs": [
        {
          "output_type": "execute_result",
          "data": {
            "text/plain": [
              "driver_gender\n",
              "F    0.074561\n",
              "M    0.094353\n",
              "Name: frisk, dtype: float64"
            ]
          },
          "metadata": {},
          "execution_count": 68
        }
      ]
    },
    {
      "cell_type": "markdown",
      "metadata": {
        "id": "8MwnuE8RnptT"
      },
      "source": [
        "## **Análisis exploratorio de datos**\n",
        "¿Es más probable ser arrestado a una determinada hora del día? ¿Están aumentando las detenciones relacionadas con las drogas? \n",
        "\n",
        "Los gráficos pueden ayudar a comprender las tendencias de una manera que examinando sólo los datos no se puede."
      ]
    },
    {
      "cell_type": "markdown",
      "metadata": {
        "id": "Wz1nwV3qpAmc"
      },
      "source": [
        "### ¿La hora del día afecta la tasa de arrestos?\n",
        "\n",
        "Cuando un oficial de policia detiene a un conductor, un pequeño porcentaje de termina en arrestos. Esto es conocido como tasa de arrestos. "
      ]
    },
    {
      "cell_type": "code",
      "metadata": {
        "colab": {
          "base_uri": "https://localhost:8080/"
        },
        "id": "n3FxBaEucimJ",
        "outputId": "685788a5-bb4d-49d0-9b2e-8e0046c54de7"
      },
      "source": [
        "# tasa de arrestos\n",
        "ri.is_arrested.mean()"
      ],
      "execution_count": null,
      "outputs": [
        {
          "output_type": "execute_result",
          "data": {
            "text/plain": [
              "0.09025408486936048"
            ]
          },
          "metadata": {},
          "execution_count": 69
        }
      ]
    },
    {
      "cell_type": "code",
      "metadata": {
        "colab": {
          "base_uri": "https://localhost:8080/"
        },
        "id": "WyMguRRFo6Ea",
        "outputId": "c99826bd-7490-4bdb-8ec8-e8ccd5325605"
      },
      "source": [
        "# recordando que tenemos un DatetimeIndex\n",
        "ri.index"
      ],
      "execution_count": null,
      "outputs": [
        {
          "output_type": "execute_result",
          "data": {
            "text/plain": [
              "DatetimeIndex(['2005-01-04 12:55:00', '2005-01-23 23:15:00',\n",
              "               '2005-02-17 04:15:00', '2005-02-20 17:15:00',\n",
              "               '2005-02-24 01:20:00', '2005-03-14 10:00:00',\n",
              "               '2005-03-29 21:55:00', '2005-04-04 21:25:00',\n",
              "               '2005-07-14 11:20:00', '2005-07-14 19:55:00',\n",
              "               ...\n",
              "               '2015-12-31 13:23:00', '2015-12-31 18:59:00',\n",
              "               '2015-12-31 19:13:00', '2015-12-31 20:20:00',\n",
              "               '2015-12-31 20:50:00', '2015-12-31 21:21:00',\n",
              "               '2015-12-31 21:59:00', '2015-12-31 22:04:00',\n",
              "               '2015-12-31 22:09:00', '2015-12-31 22:47:00'],\n",
              "              dtype='datetime64[ns]', name='stop_datetime', length=91741, freq=None)"
            ]
          },
          "metadata": {},
          "execution_count": 70
        }
      ]
    },
    {
      "cell_type": "code",
      "metadata": {
        "colab": {
          "base_uri": "https://localhost:8080/"
        },
        "id": "jKGTg8zgTLnQ",
        "outputId": "21c35e01-9854-4ceb-d22f-231e38ffb3ee"
      },
      "source": [
        "# podemos sacar del índice el mes, el año, etc.\n",
        "# no a través del \"dt\"\n",
        "ri.index.year"
      ],
      "execution_count": null,
      "outputs": [
        {
          "output_type": "execute_result",
          "data": {
            "text/plain": [
              "Int64Index([2005, 2005, 2005, 2005, 2005, 2005, 2005, 2005, 2005, 2005,\n",
              "            ...\n",
              "            2015, 2015, 2015, 2015, 2015, 2015, 2015, 2015, 2015, 2015],\n",
              "           dtype='int64', name='stop_datetime', length=91741)"
            ]
          },
          "metadata": {},
          "execution_count": 71
        }
      ]
    },
    {
      "cell_type": "markdown",
      "metadata": {
        "id": "XpB6JjXFX18G"
      },
      "source": [
        "Line plot: \n",
        "\n",
        "Pone el indice de la serie en el eje x, \n",
        "pone los valores en el eje y"
      ]
    },
    {
      "cell_type": "code",
      "metadata": {
        "colab": {
          "base_uri": "https://localhost:8080/"
        },
        "id": "wKWLri9zTb-I",
        "outputId": "be8a90d2-4265-4d67-e1a8-0d5f12761262"
      },
      "source": [
        "# tasa de arrestos por hora\n",
        "# que pasa si queremos agrupar por \"stop_datetime\", que no es parte de las columnas, sino por el índice\n",
        "hourly_arrest_rate = ri.groupby(ri.index.hour).is_arrested.mean()\n",
        "hourly_arrest_rate"
      ],
      "execution_count": null,
      "outputs": [
        {
          "output_type": "execute_result",
          "data": {
            "text/plain": [
              "stop_datetime\n",
              "0     0.121206\n",
              "1     0.144250\n",
              "2     0.144120\n",
              "3     0.148370\n",
              "4     0.179310\n",
              "5     0.178899\n",
              "6     0.043614\n",
              "7     0.053497\n",
              "8     0.073591\n",
              "9     0.070199\n",
              "10    0.069306\n",
              "11    0.075217\n",
              "12    0.087040\n",
              "13    0.078964\n",
              "14    0.080171\n",
              "15    0.080526\n",
              "16    0.089505\n",
              "17    0.107914\n",
              "18    0.089883\n",
              "19    0.078508\n",
              "20    0.091482\n",
              "21    0.153265\n",
              "22    0.110715\n",
              "23    0.108225\n",
              "Name: is_arrested, dtype: float64"
            ]
          },
          "metadata": {},
          "execution_count": 72
        }
      ]
    },
    {
      "cell_type": "code",
      "metadata": {
        "colab": {
          "base_uri": "https://localhost:8080/",
          "height": 295
        },
        "id": "DPIftWopS4IA",
        "outputId": "584357f7-f2b3-4dbe-e851-876a8e75d926"
      },
      "source": [
        "# graficando la tasa de arrestos por hora\n",
        "hourly_arrest_rate.plot()\n",
        "\n",
        "plt.xlabel('Hour')\n",
        "plt.ylabel('Arrest Rate')\n",
        "plt.title('Arrest Rate by Time of Day')\n",
        "\n",
        "plt.show()"
      ],
      "execution_count": null,
      "outputs": [
        {
          "output_type": "display_data",
          "data": {
            "image/png": "[encoded data removed]",
            "text/plain": [
              "<Figure size 432x288 with 1 Axes>"
            ]
          },
          "metadata": {
            "needs_background": "light"
          }
        }
      ]
    },
    {
      "cell_type": "markdown",
      "metadata": {
        "id": "WvrinUINqPCI"
      },
      "source": [
        "Una pequeña parte de las detenciones en tráfico son encontradas drogas. Evaluemos las detenciones relacionadas con drogas son cada vez más comunes."
      ]
    },
    {
      "cell_type": "code",
      "metadata": {
        "id": "paLuxtMNqMlM"
      },
      "source": [
        "# tasa anual de detenciones relacionadas con drogas\n",
        "annual_drug_rate = ri.drugs_related_stop.resample('A').mean()"
      ],
      "execution_count": null,
      "outputs": []
    },
    {
      "cell_type": "code",
      "metadata": {
        "colab": {
          "base_uri": "https://localhost:8080/",
          "height": 280
        },
        "id": "bsaYoDL9vRAv",
        "outputId": "c8661ee2-6425-4f1b-b74e-11daf260131e"
      },
      "source": [
        "# graficando\n",
        "annual_drug_rate.plot()\n",
        "plt.show()"
      ],
      "execution_count": null,
      "outputs": [
        {
          "output_type": "display_data",
          "data": {
            "image/png": "[encoded data removed]",
            "text/plain": [
              "<Figure size 432x288 with 1 Axes>"
            ]
          },
          "metadata": {
            "needs_background": "light"
          }
        }
      ]
    },
    {
      "cell_type": "markdown",
      "metadata": {
        "id": "W2WospwJ2X-D"
      },
      "source": [
        "Podemos ver que las detenciones aumentaron considerablemente entre el 2005 y 2015. Podríamos generar una hipótesis de que la tasa de detenciones vehículares incremento también."
      ]
    },
    {
      "cell_type": "code",
      "metadata": {
        "id": "VCEZ7sfi5ueR"
      },
      "source": [
        "# tasa de busquedas anuales \n",
        "annual_search_rate = ri.search_conducted.resample('A').mean()"
      ],
      "execution_count": null,
      "outputs": []
    },
    {
      "cell_type": "code",
      "metadata": {
        "colab": {
          "base_uri": "https://localhost:8080/",
          "height": 175
        },
        "id": "GLr8CnqO6fTm",
        "outputId": "e6c243c0-4e7f-4a7d-b5cf-3737e583e5a2"
      },
      "source": [
        "# concatenamos con la tasa anual de detenciones relacionadas con drogas\n",
        "annual = pd.concat([annual_drug_rate, annual_search_rate], axis='columns')\n",
        "annual.head(3)"
      ],
      "execution_count": null,
      "outputs": [
        {
          "output_type": "execute_result",
          "data": {
            "text/html": [
              "<div>\n",
              "<style scoped>\n",
              "    .dataframe tbody tr th:only-of-type {\n",
              "        vertical-align: middle;\n",
              "    }\n",
              "\n",
              "    .dataframe tbody tr th {\n",
              "        vertical-align: top;\n",
              "    }\n",
              "\n",
              "    .dataframe thead th {\n",
              "        text-align: right;\n",
              "    }\n",
              "</style>\n",
              "<table border=\"1\" class=\"dataframe\">\n",
              "  <thead>\n",
              "    <tr style=\"text-align: right;\">\n",
              "      <th></th>\n",
              "      <th>drugs_related_stop</th>\n",
              "      <th>search_conducted</th>\n",
              "    </tr>\n",
              "    <tr>\n",
              "      <th>stop_datetime</th>\n",
              "      <th></th>\n",
              "      <th></th>\n",
              "    </tr>\n",
              "  </thead>\n",
              "  <tbody>\n",
              "    <tr>\n",
              "      <th>2005-12-31</th>\n",
              "      <td>0.006390</td>\n",
              "      <td>0.048323</td>\n",
              "    </tr>\n",
              "    <tr>\n",
              "      <th>2006-12-31</th>\n",
              "      <td>0.006913</td>\n",
              "      <td>0.039773</td>\n",
              "    </tr>\n",
              "    <tr>\n",
              "      <th>2007-12-31</th>\n",
              "      <td>0.007520</td>\n",
              "      <td>0.041567</td>\n",
              "    </tr>\n",
              "  </tbody>\n",
              "</table>\n",
              "</div>"
            ],
            "text/plain": [
              "               drugs_related_stop  search_conducted\n",
              "stop_datetime                                      \n",
              "2005-12-31               0.006390          0.048323\n",
              "2006-12-31               0.006913          0.039773\n",
              "2007-12-31               0.007520          0.041567"
            ]
          },
          "metadata": {},
          "execution_count": 77
        }
      ]
    },
    {
      "cell_type": "code",
      "metadata": {
        "colab": {
          "base_uri": "https://localhost:8080/",
          "height": 282
        },
        "id": "Q8Ynl0jM7kvR",
        "outputId": "3f8de67f-a4b0-4d6a-d0b5-c93dcd983fa6"
      },
      "source": [
        "# graficando\n",
        "annual.plot()\n",
        "plt.show()"
      ],
      "execution_count": null,
      "outputs": [
        {
          "output_type": "display_data",
          "data": {
            "image/png": "[encoded data removed]",
            "text/plain": [
              "<Figure size 432x288 with 1 Axes>"
            ]
          },
          "metadata": {
            "needs_background": "light"
          }
        }
      ]
    },
    {
      "cell_type": "code",
      "metadata": {
        "colab": {
          "base_uri": "https://localhost:8080/",
          "height": 270
        },
        "id": "1NCR_Is57vpd",
        "outputId": "9b7ecd07-d46c-406c-9535-d21c8a958084"
      },
      "source": [
        "# una mejor forma de graficar\n",
        "annual.plot(subplots=True)\n",
        "plt.show()"
      ],
      "execution_count": null,
      "outputs": [
        {
          "output_type": "display_data",
          "data": {
            "image/png": "[encoded data removed]",
            "text/plain": [
              "<Figure size 432x288 with 2 Axes>"
            ]
          },
          "metadata": {
            "needs_background": "light"
          }
        }
      ]
    },
    {
      "cell_type": "markdown",
      "metadata": {
        "id": "UlM4wGV99B0R"
      },
      "source": [
        "### ¿Qué tipo de infracciones se detectan en cada distrito?"
      ]
    },
    {
      "cell_type": "code",
      "metadata": {
        "colab": {
          "base_uri": "https://localhost:8080/",
          "height": 143
        },
        "id": "hRle_wR8zX7h",
        "outputId": "0b965431-b0fd-42f8-de56-329d93720571"
      },
      "source": [
        "# cross-tabulation \n",
        "pd.crosstab(ri.driver_gender, ri.driver_race)"
      ],
      "execution_count": null,
      "outputs": [
        {
          "output_type": "execute_result",
          "data": {
            "text/html": [
              "<div>\n",
              "<style scoped>\n",
              "    .dataframe tbody tr th:only-of-type {\n",
              "        vertical-align: middle;\n",
              "    }\n",
              "\n",
              "    .dataframe tbody tr th {\n",
              "        vertical-align: top;\n",
              "    }\n",
              "\n",
              "    .dataframe thead th {\n",
              "        text-align: right;\n",
              "    }\n",
              "</style>\n",
              "<table border=\"1\" class=\"dataframe\">\n",
              "  <thead>\n",
              "    <tr style=\"text-align: right;\">\n",
              "      <th>driver_race</th>\n",
              "      <th>Asian</th>\n",
              "      <th>Black</th>\n",
              "      <th>Hispanic</th>\n",
              "      <th>Other</th>\n",
              "      <th>White</th>\n",
              "    </tr>\n",
              "    <tr>\n",
              "      <th>driver_gender</th>\n",
              "      <th></th>\n",
              "      <th></th>\n",
              "      <th></th>\n",
              "      <th></th>\n",
              "      <th></th>\n",
              "    </tr>\n",
              "  </thead>\n",
              "  <tbody>\n",
              "    <tr>\n",
              "      <th>F</th>\n",
              "      <td>551</td>\n",
              "      <td>2681</td>\n",
              "      <td>1953</td>\n",
              "      <td>53</td>\n",
              "      <td>18536</td>\n",
              "    </tr>\n",
              "    <tr>\n",
              "      <th>M</th>\n",
              "      <td>1838</td>\n",
              "      <td>9604</td>\n",
              "      <td>7774</td>\n",
              "      <td>212</td>\n",
              "      <td>43334</td>\n",
              "    </tr>\n",
              "  </tbody>\n",
              "</table>\n",
              "</div>"
            ],
            "text/plain": [
              "driver_race    Asian  Black  Hispanic  Other  White\n",
              "driver_gender                                      \n",
              "F                551   2681      1953     53  18536\n",
              "M               1838   9604      7774    212  43334"
            ]
          },
          "metadata": {},
          "execution_count": 80
        }
      ]
    },
    {
      "cell_type": "code",
      "metadata": {
        "id": "zkxohqul9BiF",
        "colab": {
          "base_uri": "https://localhost:8080/",
          "height": 236
        },
        "outputId": "1d0d3e34-62c8-4822-ca3e-f4c6654ca1e4"
      },
      "source": [
        "# cross-tabulation \n",
        "table = pd.crosstab(ri.driver_race, ri.driver_gender)\n",
        "table"
      ],
      "execution_count": null,
      "outputs": [
        {
          "output_type": "execute_result",
          "data": {
            "text/html": [
              "<div>\n",
              "<style scoped>\n",
              "    .dataframe tbody tr th:only-of-type {\n",
              "        vertical-align: middle;\n",
              "    }\n",
              "\n",
              "    .dataframe tbody tr th {\n",
              "        vertical-align: top;\n",
              "    }\n",
              "\n",
              "    .dataframe thead th {\n",
              "        text-align: right;\n",
              "    }\n",
              "</style>\n",
              "<table border=\"1\" class=\"dataframe\">\n",
              "  <thead>\n",
              "    <tr style=\"text-align: right;\">\n",
              "      <th>driver_gender</th>\n",
              "      <th>F</th>\n",
              "      <th>M</th>\n",
              "    </tr>\n",
              "    <tr>\n",
              "      <th>driver_race</th>\n",
              "      <th></th>\n",
              "      <th></th>\n",
              "    </tr>\n",
              "  </thead>\n",
              "  <tbody>\n",
              "    <tr>\n",
              "      <th>Asian</th>\n",
              "      <td>551</td>\n",
              "      <td>1838</td>\n",
              "    </tr>\n",
              "    <tr>\n",
              "      <th>Black</th>\n",
              "      <td>2681</td>\n",
              "      <td>9604</td>\n",
              "    </tr>\n",
              "    <tr>\n",
              "      <th>Hispanic</th>\n",
              "      <td>1953</td>\n",
              "      <td>7774</td>\n",
              "    </tr>\n",
              "    <tr>\n",
              "      <th>Other</th>\n",
              "      <td>53</td>\n",
              "      <td>212</td>\n",
              "    </tr>\n",
              "    <tr>\n",
              "      <th>White</th>\n",
              "      <td>18536</td>\n",
              "      <td>43334</td>\n",
              "    </tr>\n",
              "  </tbody>\n",
              "</table>\n",
              "</div>"
            ],
            "text/plain": [
              "driver_gender      F      M\n",
              "driver_race                \n",
              "Asian            551   1838\n",
              "Black           2681   9604\n",
              "Hispanic        1953   7774\n",
              "Other             53    212\n",
              "White          18536  43334"
            ]
          },
          "metadata": {},
          "execution_count": 81
        }
      ]
    },
    {
      "cell_type": "code",
      "metadata": {
        "colab": {
          "base_uri": "https://localhost:8080/"
        },
        "id": "_p1YoOJ0y9YT",
        "outputId": "7cf904d8-19f1-4515-895e-f75cd76d2d85"
      },
      "source": [
        "# verificando que es lo mismo que hacer esto para cada valor\n",
        "ri[(ri.driver_race == 'Asian') & (ri.driver_gender == 'F')].shape"
      ],
      "execution_count": null,
      "outputs": [
        {
          "output_type": "execute_result",
          "data": {
            "text/plain": [
              "(551, 16)"
            ]
          },
          "metadata": {},
          "execution_count": 82
        }
      ]
    },
    {
      "cell_type": "code",
      "metadata": {
        "colab": {
          "base_uri": "https://localhost:8080/",
          "height": 175
        },
        "id": "8v0RvLNTzxOj",
        "outputId": "99394cac-c33b-482d-96af-0b2556b83c73"
      },
      "source": [
        "table = table.loc['Asian':'Hispanic']\n",
        "table"
      ],
      "execution_count": null,
      "outputs": [
        {
          "output_type": "execute_result",
          "data": {
            "text/html": [
              "<div>\n",
              "<style scoped>\n",
              "    .dataframe tbody tr th:only-of-type {\n",
              "        vertical-align: middle;\n",
              "    }\n",
              "\n",
              "    .dataframe tbody tr th {\n",
              "        vertical-align: top;\n",
              "    }\n",
              "\n",
              "    .dataframe thead th {\n",
              "        text-align: right;\n",
              "    }\n",
              "</style>\n",
              "<table border=\"1\" class=\"dataframe\">\n",
              "  <thead>\n",
              "    <tr style=\"text-align: right;\">\n",
              "      <th>driver_gender</th>\n",
              "      <th>F</th>\n",
              "      <th>M</th>\n",
              "    </tr>\n",
              "    <tr>\n",
              "      <th>driver_race</th>\n",
              "      <th></th>\n",
              "      <th></th>\n",
              "    </tr>\n",
              "  </thead>\n",
              "  <tbody>\n",
              "    <tr>\n",
              "      <th>Asian</th>\n",
              "      <td>551</td>\n",
              "      <td>1838</td>\n",
              "    </tr>\n",
              "    <tr>\n",
              "      <th>Black</th>\n",
              "      <td>2681</td>\n",
              "      <td>9604</td>\n",
              "    </tr>\n",
              "    <tr>\n",
              "      <th>Hispanic</th>\n",
              "      <td>1953</td>\n",
              "      <td>7774</td>\n",
              "    </tr>\n",
              "  </tbody>\n",
              "</table>\n",
              "</div>"
            ],
            "text/plain": [
              "driver_gender     F     M\n",
              "driver_race              \n",
              "Asian           551  1838\n",
              "Black          2681  9604\n",
              "Hispanic       1953  7774"
            ]
          },
          "metadata": {},
          "execution_count": 83
        }
      ]
    },
    {
      "cell_type": "code",
      "metadata": {
        "colab": {
          "base_uri": "https://localhost:8080/",
          "height": 283
        },
        "id": "f5V9ETnm0Gn-",
        "outputId": "e40a77e7-10cc-4d3e-b993-93e6e1641600"
      },
      "source": [
        "# graficando\n",
        "table.plot()\n",
        "plt.show()"
      ],
      "execution_count": null,
      "outputs": [
        {
          "output_type": "display_data",
          "data": {
            "image/png": "[encoded data removed]",
            "text/plain": [
              "<Figure size 432x288 with 1 Axes>"
            ]
          },
          "metadata": {
            "needs_background": "light"
          }
        }
      ]
    },
    {
      "cell_type": "code",
      "metadata": {
        "colab": {
          "base_uri": "https://localhost:8080/",
          "height": 315
        },
        "id": "rSfDNyw70mfx",
        "outputId": "9a9aefb9-25ff-4ca9-b4ef-caaaa854dad7"
      },
      "source": [
        "# una gráfica más apropiada, ya que se trata de categorias es\n",
        "table.plot(kind='bar')\n",
        "plt.show()"
      ],
      "execution_count": null,
      "outputs": [
        {
          "output_type": "display_data",
          "data": {
            "image/png": "[encoded data removed]",
            "text/plain": [
              "<Figure size 432x288 with 1 Axes>"
            ]
          },
          "metadata": {
            "needs_background": "light"
          }
        }
      ]
    },
    {
      "cell_type": "code",
      "metadata": {
        "colab": {
          "base_uri": "https://localhost:8080/",
          "height": 313
        },
        "id": "uR-Ni_6f06nX",
        "outputId": "5fbe2246-a875-49ee-d5b0-f42606680477"
      },
      "source": [
        "# stacked bar plot\n",
        "table.plot(kind='bar', stacked=True)\n",
        "plt.show()"
      ],
      "execution_count": null,
      "outputs": [
        {
          "output_type": "display_data",
          "data": {
            "image/png": "[encoded data removed]",
            "text/plain": [
              "<Figure size 432x288 with 1 Axes>"
            ]
          },
          "metadata": {
            "needs_background": "light"
          }
        }
      ]
    },
    {
      "cell_type": "markdown",
      "metadata": {
        "id": "HbokPd4rKA8h"
      },
      "source": [
        "Contabilizando las infracciones por distrito"
      ]
    },
    {
      "cell_type": "code",
      "metadata": {
        "colab": {
          "base_uri": "https://localhost:8080/",
          "height": 268
        },
        "id": "ZRV03Vv0J_6x",
        "outputId": "4e24b4a8-4fb5-40e4-bb81-a0ba8a5dff65"
      },
      "source": [
        "# tabla de frecuencias de distritos e infracciones \n",
        "all_zones = pd.crosstab(ri.district, ri.violation)\n",
        "all_zones"
      ],
      "execution_count": null,
      "outputs": [
        {
          "output_type": "execute_result",
          "data": {
            "text/html": [
              "<div>\n",
              "<style scoped>\n",
              "    .dataframe tbody tr th:only-of-type {\n",
              "        vertical-align: middle;\n",
              "    }\n",
              "\n",
              "    .dataframe tbody tr th {\n",
              "        vertical-align: top;\n",
              "    }\n",
              "\n",
              "    .dataframe thead th {\n",
              "        text-align: right;\n",
              "    }\n",
              "</style>\n",
              "<table border=\"1\" class=\"dataframe\">\n",
              "  <thead>\n",
              "    <tr style=\"text-align: right;\">\n",
              "      <th>violation</th>\n",
              "      <th>Equipment</th>\n",
              "      <th>Moving violation</th>\n",
              "      <th>Other</th>\n",
              "      <th>Registration/plates</th>\n",
              "      <th>Seat belt</th>\n",
              "      <th>Speeding</th>\n",
              "    </tr>\n",
              "    <tr>\n",
              "      <th>district</th>\n",
              "      <th></th>\n",
              "      <th></th>\n",
              "      <th></th>\n",
              "      <th></th>\n",
              "      <th></th>\n",
              "      <th></th>\n",
              "    </tr>\n",
              "  </thead>\n",
              "  <tbody>\n",
              "    <tr>\n",
              "      <th>Zone K1</th>\n",
              "      <td>673</td>\n",
              "      <td>1254</td>\n",
              "      <td>290</td>\n",
              "      <td>120</td>\n",
              "      <td>0</td>\n",
              "      <td>5960</td>\n",
              "    </tr>\n",
              "    <tr>\n",
              "      <th>Zone K2</th>\n",
              "      <td>2061</td>\n",
              "      <td>2962</td>\n",
              "      <td>942</td>\n",
              "      <td>768</td>\n",
              "      <td>481</td>\n",
              "      <td>10448</td>\n",
              "    </tr>\n",
              "    <tr>\n",
              "      <th>Zone K3</th>\n",
              "      <td>2302</td>\n",
              "      <td>2898</td>\n",
              "      <td>706</td>\n",
              "      <td>695</td>\n",
              "      <td>638</td>\n",
              "      <td>12323</td>\n",
              "    </tr>\n",
              "    <tr>\n",
              "      <th>Zone X1</th>\n",
              "      <td>296</td>\n",
              "      <td>671</td>\n",
              "      <td>143</td>\n",
              "      <td>38</td>\n",
              "      <td>74</td>\n",
              "      <td>1119</td>\n",
              "    </tr>\n",
              "    <tr>\n",
              "      <th>Zone X3</th>\n",
              "      <td>2049</td>\n",
              "      <td>3086</td>\n",
              "      <td>769</td>\n",
              "      <td>671</td>\n",
              "      <td>820</td>\n",
              "      <td>8779</td>\n",
              "    </tr>\n",
              "    <tr>\n",
              "      <th>Zone X4</th>\n",
              "      <td>3541</td>\n",
              "      <td>5353</td>\n",
              "      <td>1560</td>\n",
              "      <td>1411</td>\n",
              "      <td>843</td>\n",
              "      <td>9795</td>\n",
              "    </tr>\n",
              "  </tbody>\n",
              "</table>\n",
              "</div>"
            ],
            "text/plain": [
              "violation  Equipment  Moving violation  ...  Seat belt  Speeding\n",
              "district                                ...                     \n",
              "Zone K1          673              1254  ...          0      5960\n",
              "Zone K2         2061              2962  ...        481     10448\n",
              "Zone K3         2302              2898  ...        638     12323\n",
              "Zone X1          296               671  ...         74      1119\n",
              "Zone X3         2049              3086  ...        820      8779\n",
              "Zone X4         3541              5353  ...        843      9795\n",
              "\n",
              "[6 rows x 6 columns]"
            ]
          },
          "metadata": {},
          "execution_count": 87
        }
      ]
    },
    {
      "cell_type": "code",
      "metadata": {
        "colab": {
          "base_uri": "https://localhost:8080/",
          "height": 175
        },
        "id": "mDX9YYplOt_Q",
        "outputId": "489e783b-dbcd-48b4-80ba-8aff2eda3822"
      },
      "source": [
        "k_zones = all_zones.loc['Zone K1': 'Zone K3']\n",
        "k_zones"
      ],
      "execution_count": null,
      "outputs": [
        {
          "output_type": "execute_result",
          "data": {
            "text/html": [
              "<div>\n",
              "<style scoped>\n",
              "    .dataframe tbody tr th:only-of-type {\n",
              "        vertical-align: middle;\n",
              "    }\n",
              "\n",
              "    .dataframe tbody tr th {\n",
              "        vertical-align: top;\n",
              "    }\n",
              "\n",
              "    .dataframe thead th {\n",
              "        text-align: right;\n",
              "    }\n",
              "</style>\n",
              "<table border=\"1\" class=\"dataframe\">\n",
              "  <thead>\n",
              "    <tr style=\"text-align: right;\">\n",
              "      <th>violation</th>\n",
              "      <th>Equipment</th>\n",
              "      <th>Moving violation</th>\n",
              "      <th>Other</th>\n",
              "      <th>Registration/plates</th>\n",
              "      <th>Seat belt</th>\n",
              "      <th>Speeding</th>\n",
              "    </tr>\n",
              "    <tr>\n",
              "      <th>district</th>\n",
              "      <th></th>\n",
              "      <th></th>\n",
              "      <th></th>\n",
              "      <th></th>\n",
              "      <th></th>\n",
              "      <th></th>\n",
              "    </tr>\n",
              "  </thead>\n",
              "  <tbody>\n",
              "    <tr>\n",
              "      <th>Zone K1</th>\n",
              "      <td>673</td>\n",
              "      <td>1254</td>\n",
              "      <td>290</td>\n",
              "      <td>120</td>\n",
              "      <td>0</td>\n",
              "      <td>5960</td>\n",
              "    </tr>\n",
              "    <tr>\n",
              "      <th>Zone K2</th>\n",
              "      <td>2061</td>\n",
              "      <td>2962</td>\n",
              "      <td>942</td>\n",
              "      <td>768</td>\n",
              "      <td>481</td>\n",
              "      <td>10448</td>\n",
              "    </tr>\n",
              "    <tr>\n",
              "      <th>Zone K3</th>\n",
              "      <td>2302</td>\n",
              "      <td>2898</td>\n",
              "      <td>706</td>\n",
              "      <td>695</td>\n",
              "      <td>638</td>\n",
              "      <td>12323</td>\n",
              "    </tr>\n",
              "  </tbody>\n",
              "</table>\n",
              "</div>"
            ],
            "text/plain": [
              "violation  Equipment  Moving violation  ...  Seat belt  Speeding\n",
              "district                                ...                     \n",
              "Zone K1          673              1254  ...          0      5960\n",
              "Zone K2         2061              2962  ...        481     10448\n",
              "Zone K3         2302              2898  ...        638     12323\n",
              "\n",
              "[3 rows x 6 columns]"
            ]
          },
          "metadata": {},
          "execution_count": 88
        }
      ]
    },
    {
      "cell_type": "code",
      "metadata": {
        "colab": {
          "base_uri": "https://localhost:8080/",
          "height": 311
        },
        "id": "rmsTgp-BXs9Y",
        "outputId": "2871573b-6925-4493-97fc-6b68a776a674"
      },
      "source": [
        "# graficamos\n",
        "k_zones.plot(kind='bar')\n",
        "plt.show()"
      ],
      "execution_count": null,
      "outputs": [
        {
          "output_type": "display_data",
          "data": {
            "image/png": "[encoded data removed]",
            "text/plain": [
              "<Figure size 432x288 with 1 Axes>"
            ]
          },
          "metadata": {
            "needs_background": "light"
          }
        }
      ]
    },
    {
      "cell_type": "code",
      "metadata": {
        "colab": {
          "base_uri": "https://localhost:8080/",
          "height": 311
        },
        "id": "_UBhMz-8YXYf",
        "outputId": "5b8beb0d-7a96-4403-cfd0-c759222fe565"
      },
      "source": [
        "# graficamos\n",
        "k_zones.plot(kind='bar', stacked=True)\n",
        "plt.show()"
      ],
      "execution_count": null,
      "outputs": [
        {
          "output_type": "display_data",
          "data": {
            "image/png": "[encoded data removed]",
            "text/plain": [
              "<Figure size 432x288 with 1 Axes>"
            ]
          },
          "metadata": {
            "needs_background": "light"
          }
        }
      ]
    },
    {
      "cell_type": "markdown",
      "metadata": {
        "id": "zou1M-sc5e1J"
      },
      "source": [
        "### ¿Cuánto tiempo podrías ser detenido por una infracción?"
      ]
    },
    {
      "cell_type": "code",
      "metadata": {
        "colab": {
          "base_uri": "https://localhost:8080/"
        },
        "id": "j_W5o0g8C_S1",
        "outputId": "8f6810ad-277c-43bd-c5ca-e18c62e276f9"
      },
      "source": [
        "# viaulizando la tasa de búequedas en vehículo por tipo de infracción\n",
        "search_rate = ri.groupby('violation').search_conducted.mean()\n",
        "search_rate"
      ],
      "execution_count": null,
      "outputs": [
        {
          "output_type": "execute_result",
          "data": {
            "text/plain": [
              "violation\n",
              "Equipment              0.064274\n",
              "Moving violation       0.057014\n",
              "Other                  0.045351\n",
              "Registration/plates    0.093438\n",
              "Seat belt              0.031513\n",
              "Speeding               0.021560\n",
              "Name: search_conducted, dtype: float64"
            ]
          },
          "metadata": {},
          "execution_count": 92
        }
      ]
    },
    {
      "cell_type": "code",
      "metadata": {
        "colab": {
          "base_uri": "https://localhost:8080/",
          "height": 363
        },
        "id": "BRXm22CADWth",
        "outputId": "ca7497e0-2342-4003-f70f-96d124b92761"
      },
      "source": [
        "# visualizando\n",
        "search_rate.plot(kind='bar')\n",
        "plt.show()"
      ],
      "execution_count": null,
      "outputs": [
        {
          "output_type": "display_data",
          "data": {
            "image/png": "[encoded data removed]",
            "text/plain": [
              "<Figure size 432x288 with 1 Axes>"
            ]
          },
          "metadata": {
            "needs_background": "light"
          }
        }
      ]
    },
    {
      "cell_type": "code",
      "metadata": {
        "colab": {
          "base_uri": "https://localhost:8080/",
          "height": 363
        },
        "id": "Tn1PTu96DsNn",
        "outputId": "b57b3583-3632-40e2-c98b-e208dbe9da9f"
      },
      "source": [
        "# mejorando la visualización\n",
        "search_rate.sort_values().plot(kind='bar')\n",
        "plt.show()"
      ],
      "execution_count": null,
      "outputs": [
        {
          "output_type": "display_data",
          "data": {
            "image/png": "[encoded data removed]",
            "text/plain": [
              "<Figure size 432x288 with 1 Axes>"
            ]
          },
          "metadata": {
            "needs_background": "light"
          }
        }
      ]
    },
    {
      "cell_type": "code",
      "metadata": {
        "colab": {
          "base_uri": "https://localhost:8080/",
          "height": 265
        },
        "id": "09EJjUrrEFD0",
        "outputId": "bc4c4dbc-fec2-4c10-832e-eb8f40b97288"
      },
      "source": [
        "# mejorando la visualización un poco mas\n",
        "search_rate.sort_values().plot(kind='barh')\n",
        "plt.show()"
      ],
      "execution_count": null,
      "outputs": [
        {
          "output_type": "display_data",
          "data": {
            "image/png": "[encoded data removed]",
            "text/plain": [
              "<Figure size 432x288 with 1 Axes>"
            ]
          },
          "metadata": {
            "needs_background": "light"
          }
        }
      ]
    },
    {
      "cell_type": "markdown",
      "metadata": {
        "id": "edUhn4U5GUyM"
      },
      "source": [
        "#### Convirtiendo la duración de detenciones a números\n",
        "\n",
        "Ejemplo utilizando el método ***map()***\n",
        "\n",
        "```\n",
        "mapping = {'up':True, 'down':False}\n",
        "\n",
        "apple['is_up'] = apple.change.map(mapping)\n",
        "\n",
        "apple\n",
        "```\n",
        "\n"
      ]
    },
    {
      "cell_type": "code",
      "metadata": {
        "colab": {
          "base_uri": "https://localhost:8080/"
        },
        "id": "17UxfIzv5zja",
        "outputId": "deec0760-9e07-4b9d-f3de-9533d722ec8a"
      },
      "source": [
        "# valores únicos de stop_duration\n",
        "ri.stop_duration.value_counts()"
      ],
      "execution_count": null,
      "outputs": [
        {
          "output_type": "execute_result",
          "data": {
            "text/plain": [
              "0-15 Min     69579\n",
              "16-30 Min    13740\n",
              "30+ Min       3220\n",
              "Name: stop_duration, dtype: int64"
            ]
          },
          "metadata": {},
          "execution_count": 97
        }
      ]
    },
    {
      "cell_type": "code",
      "metadata": {
        "colab": {
          "base_uri": "https://localhost:8080/",
          "height": 343
        },
        "id": "xOjSwYXFIB8q",
        "outputId": "0850a340-161a-4c97-b408-2dcd403a4339"
      },
      "source": [
        "mapping = {'0-15 Min':8, \n",
        "           '16-30 Min':23, \n",
        "           '30+ Min':45\n",
        "          }\n",
        "ri['stop_minutes'] = ri.stop_duration.map(mapping)\n",
        "ri.head(5)"
      ],
      "execution_count": null,
      "outputs": [
        {
          "output_type": "execute_result",
          "data": {
            "text/html": [
              "<div>\n",
              "<style scoped>\n",
              "    .dataframe tbody tr th:only-of-type {\n",
              "        vertical-align: middle;\n",
              "    }\n",
              "\n",
              "    .dataframe tbody tr th {\n",
              "        vertical-align: top;\n",
              "    }\n",
              "\n",
              "    .dataframe thead th {\n",
              "        text-align: right;\n",
              "    }\n",
              "</style>\n",
              "<table border=\"1\" class=\"dataframe\">\n",
              "  <thead>\n",
              "    <tr style=\"text-align: right;\">\n",
              "      <th></th>\n",
              "      <th>state</th>\n",
              "      <th>stop_date</th>\n",
              "      <th>stop_time</th>\n",
              "      <th>driver_gender</th>\n",
              "      <th>driver_race</th>\n",
              "      <th>violation_raw</th>\n",
              "      <th>violation</th>\n",
              "      <th>search_conducted</th>\n",
              "      <th>search_type</th>\n",
              "      <th>stop_outcome</th>\n",
              "      <th>is_arrested</th>\n",
              "      <th>stop_duration</th>\n",
              "      <th>drugs_related_stop</th>\n",
              "      <th>district</th>\n",
              "      <th>inventory</th>\n",
              "      <th>frisk</th>\n",
              "      <th>stop_minutes</th>\n",
              "    </tr>\n",
              "    <tr>\n",
              "      <th>stop_datetime</th>\n",
              "      <th></th>\n",
              "      <th></th>\n",
              "      <th></th>\n",
              "      <th></th>\n",
              "      <th></th>\n",
              "      <th></th>\n",
              "      <th></th>\n",
              "      <th></th>\n",
              "      <th></th>\n",
              "      <th></th>\n",
              "      <th></th>\n",
              "      <th></th>\n",
              "      <th></th>\n",
              "      <th></th>\n",
              "      <th></th>\n",
              "      <th></th>\n",
              "      <th></th>\n",
              "    </tr>\n",
              "  </thead>\n",
              "  <tbody>\n",
              "    <tr>\n",
              "      <th>2005-01-04 12:55:00</th>\n",
              "      <td>RI</td>\n",
              "      <td>2005-01-04</td>\n",
              "      <td>12:55</td>\n",
              "      <td>M</td>\n",
              "      <td>White</td>\n",
              "      <td>Equipment/Inspection Violation</td>\n",
              "      <td>Equipment</td>\n",
              "      <td>False</td>\n",
              "      <td>NaN</td>\n",
              "      <td>Citation</td>\n",
              "      <td>False</td>\n",
              "      <td>0-15 Min</td>\n",
              "      <td>False</td>\n",
              "      <td>Zone X4</td>\n",
              "      <td>False</td>\n",
              "      <td>False</td>\n",
              "      <td>8.0</td>\n",
              "    </tr>\n",
              "    <tr>\n",
              "      <th>2005-01-23 23:15:00</th>\n",
              "      <td>RI</td>\n",
              "      <td>2005-01-23</td>\n",
              "      <td>23:15</td>\n",
              "      <td>M</td>\n",
              "      <td>White</td>\n",
              "      <td>Speeding</td>\n",
              "      <td>Speeding</td>\n",
              "      <td>False</td>\n",
              "      <td>NaN</td>\n",
              "      <td>Citation</td>\n",
              "      <td>False</td>\n",
              "      <td>0-15 Min</td>\n",
              "      <td>False</td>\n",
              "      <td>Zone K3</td>\n",
              "      <td>False</td>\n",
              "      <td>False</td>\n",
              "      <td>8.0</td>\n",
              "    </tr>\n",
              "    <tr>\n",
              "      <th>2005-02-17 04:15:00</th>\n",
              "      <td>RI</td>\n",
              "      <td>2005-02-17</td>\n",
              "      <td>04:15</td>\n",
              "      <td>M</td>\n",
              "      <td>White</td>\n",
              "      <td>Speeding</td>\n",
              "      <td>Speeding</td>\n",
              "      <td>False</td>\n",
              "      <td>NaN</td>\n",
              "      <td>Citation</td>\n",
              "      <td>False</td>\n",
              "      <td>0-15 Min</td>\n",
              "      <td>False</td>\n",
              "      <td>Zone X4</td>\n",
              "      <td>False</td>\n",
              "      <td>False</td>\n",
              "      <td>8.0</td>\n",
              "    </tr>\n",
              "    <tr>\n",
              "      <th>2005-02-20 17:15:00</th>\n",
              "      <td>RI</td>\n",
              "      <td>2005-02-20</td>\n",
              "      <td>17:15</td>\n",
              "      <td>M</td>\n",
              "      <td>White</td>\n",
              "      <td>Call for Service</td>\n",
              "      <td>Other</td>\n",
              "      <td>False</td>\n",
              "      <td>NaN</td>\n",
              "      <td>Arrest Driver</td>\n",
              "      <td>True</td>\n",
              "      <td>16-30 Min</td>\n",
              "      <td>False</td>\n",
              "      <td>Zone X1</td>\n",
              "      <td>False</td>\n",
              "      <td>False</td>\n",
              "      <td>23.0</td>\n",
              "    </tr>\n",
              "    <tr>\n",
              "      <th>2005-02-24 01:20:00</th>\n",
              "      <td>RI</td>\n",
              "      <td>2005-02-24</td>\n",
              "      <td>01:20</td>\n",
              "      <td>F</td>\n",
              "      <td>White</td>\n",
              "      <td>Speeding</td>\n",
              "      <td>Speeding</td>\n",
              "      <td>False</td>\n",
              "      <td>NaN</td>\n",
              "      <td>Citation</td>\n",
              "      <td>False</td>\n",
              "      <td>0-15 Min</td>\n",
              "      <td>False</td>\n",
              "      <td>Zone X3</td>\n",
              "      <td>False</td>\n",
              "      <td>False</td>\n",
              "      <td>8.0</td>\n",
              "    </tr>\n",
              "  </tbody>\n",
              "</table>\n",
              "</div>"
            ],
            "text/plain": [
              "                    state   stop_date stop_time  ... inventory  frisk stop_minutes\n",
              "stop_datetime                                    ...                              \n",
              "2005-01-04 12:55:00    RI  2005-01-04     12:55  ...     False  False          8.0\n",
              "2005-01-23 23:15:00    RI  2005-01-23     23:15  ...     False  False          8.0\n",
              "2005-02-17 04:15:00    RI  2005-02-17     04:15  ...     False  False          8.0\n",
              "2005-02-20 17:15:00    RI  2005-02-20     17:15  ...     False  False         23.0\n",
              "2005-02-24 01:20:00    RI  2005-02-24     01:20  ...     False  False          8.0\n",
              "\n",
              "[5 rows x 17 columns]"
            ]
          },
          "metadata": {},
          "execution_count": 98
        }
      ]
    },
    {
      "cell_type": "code",
      "metadata": {
        "colab": {
          "base_uri": "https://localhost:8080/"
        },
        "id": "3jdhwtK4JCze",
        "outputId": "192b3c4f-c187-452e-ab1e-5bd9255952bf"
      },
      "source": [
        "# únicos valores de \"stop_minutes\"\n",
        "ri.stop_minutes.unique()"
      ],
      "execution_count": null,
      "outputs": [
        {
          "output_type": "execute_result",
          "data": {
            "text/plain": [
              "array([ 8., 23., nan, 45.])"
            ]
          },
          "metadata": {},
          "execution_count": 100
        }
      ]
    },
    {
      "cell_type": "markdown",
      "metadata": {
        "id": "nuJR6m7nLZor"
      },
      "source": [
        "#### graficando la duración de detenciones"
      ]
    },
    {
      "cell_type": "code",
      "metadata": {
        "colab": {
          "base_uri": "https://localhost:8080/"
        },
        "id": "HR1Lqj2LJIAq",
        "outputId": "a498afec-f677-49ea-efe7-ba29ba37d311"
      },
      "source": [
        "stop_length = ri.groupby('violation_raw').stop_minutes.mean()\n",
        "stop_length"
      ],
      "execution_count": null,
      "outputs": [
        {
          "output_type": "execute_result",
          "data": {
            "text/plain": [
              "violation_raw\n",
              "APB                                 17.967033\n",
              "Call for Service                    22.140805\n",
              "Equipment/Inspection Violation      11.445340\n",
              "Motorist Assist/Courtesy            17.741463\n",
              "Other Traffic Violation             13.844490\n",
              "Registration Violation              13.736970\n",
              "Seatbelt Violation                   9.662815\n",
              "Special Detail/Directed Patrol      15.123632\n",
              "Speeding                            10.581509\n",
              "Suspicious Person                   14.910714\n",
              "Violation of City/Town Ordinance    13.254144\n",
              "Warrant                             24.055556\n",
              "Name: stop_minutes, dtype: float64"
            ]
          },
          "metadata": {},
          "execution_count": 104
        }
      ]
    },
    {
      "cell_type": "code",
      "metadata": {
        "colab": {
          "base_uri": "https://localhost:8080/",
          "height": 265
        },
        "id": "Cn2PHXB_Lzqd",
        "outputId": "64fc65f0-8a6c-4ad5-8165-bb2d4462011a"
      },
      "source": [
        "# ordenando y visualizando\n",
        "stop_length.sort_values().plot(kind='barh')\n",
        "plt.show()"
      ],
      "execution_count": null,
      "outputs": [
        {
          "output_type": "display_data",
          "data": {
            "image/png": "[encoded data removed]",
            "text/plain": [
              "<Figure size 432x288 with 1 Axes>"
            ]
          },
          "metadata": {
            "needs_background": "light"
          }
        }
      ]
    }
  ]
}